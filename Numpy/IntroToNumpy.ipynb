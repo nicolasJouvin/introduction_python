{
 "cells": [
  {
   "cell_type": "markdown",
   "id": "4de71e1d",
   "metadata": {},
   "source": [
    "![NumPy](https://upload.wikimedia.org/wikipedia/commons/thumb/3/31/NumPy_logo_2020.svg/1920px-NumPy_logo_2020.svg.png)"
   ]
  },
  {
   "cell_type": "markdown",
   "id": "71fe1056",
   "metadata": {},
   "source": [
    "# Intro to NumPy and SciPy modules\n",
    "\n",
    "**warning**: this notebook assumes that you are familiar with the basics of Python, if not you can look at the notebook Basics_of_python.ipynb.\n",
    "\n",
    "**Credits**: parts of this notebook are based on examples and code of the Numpy warmup notebook of Tamás Gál (tamas.gal@fau.de) https://github.com/escape2020/school2022/blob/main/numpy/1_np_warm-up.ipynb\n",
    "\n",
    "Python was not specifically designed for scientific computing (as opposed to matlab, R or Julia). Therefore, it does not now what a matrix or a vector is. NumPy implements these data structures with its `array` structure.\n",
    "\n",
    "> NumPy is the building block of other scientific programming modules used for data analysis and machine learning: Pandas, scikit-learn, matplotlib.\n",
    "\n",
    "Important take home messages :\n",
    "\n",
    " * Numpy is (almost) imported with alias `np`: `import numpy as np`.\n",
    " * Vectors of $\\mathbb{R}^n$ are 1-D numpy arrays of shape `(n,)`.\n",
    " * `(n,)` and `(n,1)` arrays are **not** the same.\n",
    " * Matrices $\\mathcal{M}^{n \\times p}$ are 2-D numpy arrays of shape `(n,p)`.\n",
    " * **Frequent source of mistake**: forgetting to `copy()` an array when needed.\n",
    " * The `scipy` module is based on numpy and implements standard linear algebra tools, *e.g.* eigen decomposition, inversion, etc."
   ]
  },
  {
   "cell_type": "code",
   "execution_count": 1,
   "id": "9ba18f4d",
   "metadata": {},
   "outputs": [],
   "source": [
    "import numpy as np\n",
    "\n",
    "rng = np.random.default_rng(seed = 42)"
   ]
  },
  {
   "cell_type": "code",
   "execution_count": 2,
   "id": "f66101b9",
   "metadata": {},
   "outputs": [],
   "source": [
    "# IPython routine to display errors\n",
    "from IPython.core.magic import register_line_magic\n",
    "\n",
    "@register_line_magic\n",
    "def shorterr(line):\n",
    "    \"\"\"Show only the exception message if one is raised.\"\"\"\n",
    "    try:\n",
    "        output = eval(line)\n",
    "    except Exception as e:\n",
    "        print(\"\\x1b[31m\\x1b[1m{e.__class__.__name__}: {e}\\x1b[0m\".format(e=e))\n",
    "    else:\n",
    "        return output\n",
    "    \n",
    "del shorterr"
   ]
  },
  {
   "cell_type": "markdown",
   "id": "bade5a3b",
   "metadata": {},
   "source": [
    "## Building blocks of NumPy: the `ndarray`\n",
    "\n",
    "#### Vectors (1D array)"
   ]
  },
  {
   "cell_type": "code",
   "execution_count": 3,
   "id": "c38dc7c5",
   "metadata": {},
   "outputs": [
    {
     "data": {
      "text/plain": [
       "numpy.ndarray"
      ]
     },
     "execution_count": 3,
     "metadata": {},
     "output_type": "execute_result"
    }
   ],
   "source": [
    "x = np.array([1,2])\n",
    "type(x)"
   ]
  },
  {
   "cell_type": "code",
   "execution_count": 4,
   "id": "574317b5",
   "metadata": {},
   "outputs": [
    {
     "data": {
      "text/plain": [
       "array([1, 2])"
      ]
     },
     "execution_count": 4,
     "metadata": {},
     "output_type": "execute_result"
    }
   ],
   "source": [
    "x"
   ]
  },
  {
   "cell_type": "code",
   "execution_count": 5,
   "id": "8e0da54f",
   "metadata": {},
   "outputs": [
    {
     "data": {
      "text/plain": [
       "2"
      ]
     },
     "execution_count": 5,
     "metadata": {},
     "output_type": "execute_result"
    }
   ],
   "source": [
    "x.size # number of elts"
   ]
  },
  {
   "cell_type": "code",
   "execution_count": 6,
   "id": "6836f75e",
   "metadata": {},
   "outputs": [
    {
     "data": {
      "text/plain": [
       "1"
      ]
     },
     "execution_count": 6,
     "metadata": {},
     "output_type": "execute_result"
    }
   ],
   "source": [
    "x.ndim # number of axes (1 = vector, 2 = matrix, >=3 tensor)"
   ]
  },
  {
   "cell_type": "code",
   "execution_count": 7,
   "id": "778e5f15",
   "metadata": {},
   "outputs": [
    {
     "data": {
      "text/plain": [
       "(2,)"
      ]
     },
     "execution_count": 7,
     "metadata": {},
     "output_type": "execute_result"
    }
   ],
   "source": [
    "x.shape"
   ]
  },
  {
   "cell_type": "markdown",
   "id": "b04a23ae",
   "metadata": {},
   "source": [
    "#### Matrices (2D array)"
   ]
  },
  {
   "cell_type": "code",
   "execution_count": 8,
   "id": "a669b97a",
   "metadata": {},
   "outputs": [
    {
     "data": {
      "text/plain": [
       "numpy.ndarray"
      ]
     },
     "execution_count": 8,
     "metadata": {},
     "output_type": "execute_result"
    }
   ],
   "source": [
    "A = np.array([[1,2,3], \n",
    "              [4,5,6]])\n",
    "type(A)"
   ]
  },
  {
   "cell_type": "code",
   "execution_count": 9,
   "id": "c0328ab0",
   "metadata": {},
   "outputs": [
    {
     "data": {
      "text/plain": [
       "array([[1, 2, 3],\n",
       "       [4, 5, 6]])"
      ]
     },
     "execution_count": 9,
     "metadata": {},
     "output_type": "execute_result"
    }
   ],
   "source": [
    "A"
   ]
  },
  {
   "cell_type": "code",
   "execution_count": 10,
   "id": "2e413493",
   "metadata": {},
   "outputs": [
    {
     "data": {
      "text/plain": [
       "6"
      ]
     },
     "execution_count": 10,
     "metadata": {},
     "output_type": "execute_result"
    }
   ],
   "source": [
    "A.size"
   ]
  },
  {
   "cell_type": "code",
   "execution_count": 11,
   "id": "edf3a4e1",
   "metadata": {},
   "outputs": [
    {
     "data": {
      "text/plain": [
       "(2, 3)"
      ]
     },
     "execution_count": 11,
     "metadata": {},
     "output_type": "execute_result"
    }
   ],
   "source": [
    "A.shape"
   ]
  },
  {
   "cell_type": "markdown",
   "id": "bcde6cad",
   "metadata": {},
   "source": [
    "### ndrray vs list"
   ]
  },
  {
   "cell_type": "code",
   "execution_count": 12,
   "id": "db349e41",
   "metadata": {},
   "outputs": [
    {
     "data": {
      "text/plain": [
       "[1, 2, 3, 4]"
      ]
     },
     "execution_count": 12,
     "metadata": {},
     "output_type": "execute_result"
    }
   ],
   "source": [
    "x = [1, 2]\n",
    "y = [i for i in range(3, 5)]\n",
    "x + y # concatenation"
   ]
  },
  {
   "cell_type": "code",
   "execution_count": 13,
   "id": "3e1123d7",
   "metadata": {},
   "outputs": [
    {
     "data": {
      "text/plain": [
       "array([4, 6])"
      ]
     },
     "execution_count": 13,
     "metadata": {},
     "output_type": "execute_result"
    }
   ],
   "source": [
    "x = np.array(x)\n",
    "y = np.array(y)\n",
    "x + y # broadcasting (see below)"
   ]
  },
  {
   "cell_type": "markdown",
   "id": "eea7b3d6",
   "metadata": {},
   "source": [
    "### Array Methods"
   ]
  },
  {
   "cell_type": "code",
   "execution_count": 14,
   "id": "268738a3",
   "metadata": {},
   "outputs": [
    {
     "data": {
      "text/plain": [
       "array([1, 2, 3, 4, 5, 6])"
      ]
     },
     "execution_count": 14,
     "metadata": {},
     "output_type": "execute_result"
    }
   ],
   "source": [
    "x = np.array([1,2,3,4,5,6])\n",
    "x"
   ]
  },
  {
   "cell_type": "code",
   "execution_count": 15,
   "id": "43fe458c",
   "metadata": {},
   "outputs": [
    {
     "data": {
      "text/plain": [
       "(1, 6, 3.5, 21)"
      ]
     },
     "execution_count": 15,
     "metadata": {},
     "output_type": "execute_result"
    }
   ],
   "source": [
    "x.min(), x.max(), x.mean(), x.sum()"
   ]
  },
  {
   "cell_type": "code",
   "execution_count": 16,
   "id": "70cab34a",
   "metadata": {},
   "outputs": [
    {
     "data": {
      "text/plain": [
       "array([[1, 2, 3],\n",
       "       [4, 5, 6]])"
      ]
     },
     "execution_count": 16,
     "metadata": {},
     "output_type": "execute_result"
    }
   ],
   "source": [
    "A"
   ]
  },
  {
   "cell_type": "code",
   "execution_count": 17,
   "id": "106003bc",
   "metadata": {},
   "outputs": [
    {
     "data": {
      "text/plain": [
       "array([5, 7, 9])"
      ]
     },
     "execution_count": 17,
     "metadata": {},
     "output_type": "execute_result"
    }
   ],
   "source": [
    "A.sum(axis=0) # sum overs 1st axis (rows)"
   ]
  },
  {
   "cell_type": "code",
   "execution_count": 18,
   "id": "d76fd3f9",
   "metadata": {},
   "outputs": [
    {
     "data": {
      "text/plain": [
       "array([ 6, 15])"
      ]
     },
     "execution_count": 18,
     "metadata": {},
     "output_type": "execute_result"
    }
   ],
   "source": [
    "A.sum(axis=1) # sum over 2nd axis (columns)"
   ]
  },
  {
   "cell_type": "markdown",
   "id": "41b3fc11",
   "metadata": {},
   "source": [
    "## Indexing and slicing"
   ]
  },
  {
   "cell_type": "code",
   "execution_count": 19,
   "id": "717ed861",
   "metadata": {},
   "outputs": [
    {
     "data": {
      "text/plain": [
       "array([0, 1, 2, 3, 4, 5, 6, 7, 8, 9])"
      ]
     },
     "execution_count": 19,
     "metadata": {},
     "output_type": "execute_result"
    }
   ],
   "source": [
    "x = np.arange(10) # equivalent to np.array(range(10))\n",
    "x"
   ]
  },
  {
   "cell_type": "code",
   "execution_count": 20,
   "id": "c267f281",
   "metadata": {},
   "outputs": [
    {
     "data": {
      "text/plain": [
       "0"
      ]
     },
     "execution_count": 20,
     "metadata": {},
     "output_type": "execute_result"
    }
   ],
   "source": [
    "x[0] # indexing starts at 0"
   ]
  },
  {
   "cell_type": "code",
   "execution_count": 21,
   "id": "cce90bcc",
   "metadata": {},
   "outputs": [
    {
     "data": {
      "text/plain": [
       "array([0, 4])"
      ]
     },
     "execution_count": 21,
     "metadata": {},
     "output_type": "execute_result"
    }
   ],
   "source": [
    "x[[0,4]] # you can give a list of index to subset"
   ]
  },
  {
   "cell_type": "code",
   "execution_count": 22,
   "id": "db6d80bb",
   "metadata": {},
   "outputs": [
    {
     "data": {
      "text/plain": [
       "array([2, 3, 4])"
      ]
     },
     "execution_count": 22,
     "metadata": {},
     "output_type": "execute_result"
    }
   ],
   "source": [
    "x[2:5] # tslice : ake all between 3rd and 6th (excluded)"
   ]
  },
  {
   "cell_type": "code",
   "execution_count": 23,
   "id": "3d4f130a",
   "metadata": {},
   "outputs": [
    {
     "data": {
      "text/plain": [
       "array([4, 5, 6, 7, 8, 9])"
      ]
     },
     "execution_count": 23,
     "metadata": {},
     "output_type": "execute_result"
    }
   ],
   "source": [
    "x[4:] # from 5th to last"
   ]
  },
  {
   "cell_type": "code",
   "execution_count": 24,
   "id": "00048272",
   "metadata": {},
   "outputs": [
    {
     "data": {
      "text/plain": [
       "array([0, 1, 2, 3, 4, 5, 6, 7, 8, 9])"
      ]
     },
     "execution_count": 24,
     "metadata": {},
     "output_type": "execute_result"
    }
   ],
   "source": [
    "x[:] # all values"
   ]
  },
  {
   "cell_type": "code",
   "execution_count": 25,
   "id": "0673d123",
   "metadata": {},
   "outputs": [
    {
     "data": {
      "text/plain": [
       "9"
      ]
     },
     "execution_count": 25,
     "metadata": {},
     "output_type": "execute_result"
    }
   ],
   "source": [
    "x[-1]  # -1 refers to the last element"
   ]
  },
  {
   "cell_type": "code",
   "execution_count": 26,
   "id": "876f1155",
   "metadata": {},
   "outputs": [
    {
     "data": {
      "text/plain": [
       "array([2, 5])"
      ]
     },
     "execution_count": 26,
     "metadata": {},
     "output_type": "execute_result"
    }
   ],
   "source": [
    "x[2:6:3]  # just like in Python: [start:end:step]"
   ]
  },
  {
   "cell_type": "code",
   "execution_count": 27,
   "id": "80adea60",
   "metadata": {},
   "outputs": [
    {
     "data": {
      "text/plain": [
       "array([9, 8, 7, 6, 5, 4, 3, 2, 1, 0])"
      ]
     },
     "execution_count": 27,
     "metadata": {},
     "output_type": "execute_result"
    }
   ],
   "source": [
    "x[::-1]  # reversing an array"
   ]
  },
  {
   "cell_type": "markdown",
   "id": "acf89a51",
   "metadata": {},
   "source": [
    "#### Indexing and Slicing in Multiple Dimensions\n",
    "Axis are separate by commas \",\""
   ]
  },
  {
   "cell_type": "code",
   "execution_count": 28,
   "id": "793f7e46",
   "metadata": {},
   "outputs": [
    {
     "data": {
      "text/plain": [
       "array([[1, 2, 3],\n",
       "       [4, 5, 6]])"
      ]
     },
     "execution_count": 28,
     "metadata": {},
     "output_type": "execute_result"
    }
   ],
   "source": [
    "A"
   ]
  },
  {
   "cell_type": "code",
   "execution_count": 29,
   "id": "bd0f715c",
   "metadata": {},
   "outputs": [
    {
     "data": {
      "text/plain": [
       "(1, 3)"
      ]
     },
     "execution_count": 29,
     "metadata": {},
     "output_type": "execute_result"
    }
   ],
   "source": [
    "A[0,0], A[0,2]"
   ]
  },
  {
   "cell_type": "code",
   "execution_count": 30,
   "id": "e31d8c9a",
   "metadata": {},
   "outputs": [
    {
     "data": {
      "text/plain": [
       "array([1, 4])"
      ]
     },
     "execution_count": 30,
     "metadata": {},
     "output_type": "execute_result"
    }
   ],
   "source": [
    "A[:, 0] # select first column of A"
   ]
  },
  {
   "cell_type": "code",
   "execution_count": 31,
   "id": "4ce08b9b",
   "metadata": {},
   "outputs": [
    {
     "data": {
      "text/plain": [
       "array([1, 2, 3])"
      ]
     },
     "execution_count": 31,
     "metadata": {},
     "output_type": "execute_result"
    }
   ],
   "source": [
    "A[0, :] # select first row of A"
   ]
  },
  {
   "cell_type": "code",
   "execution_count": 32,
   "id": "301b2559",
   "metadata": {},
   "outputs": [
    {
     "name": "stdout",
     "output_type": "stream",
     "text": [
      "\u001b[31m\u001b[1mIndexError: index 2 is out of bounds for axis 0 with size 2\u001b[0m\n"
     ]
    }
   ],
   "source": [
    "%shorterr A[[0,2], [3,4]] # out of bounds indexes return error"
   ]
  },
  {
   "cell_type": "code",
   "execution_count": 33,
   "id": "b917c15c",
   "metadata": {},
   "outputs": [
    {
     "data": {
      "text/plain": [
       "array([[6, 5, 4],\n",
       "       [3, 2, 1]])"
      ]
     },
     "execution_count": 33,
     "metadata": {},
     "output_type": "execute_result"
    }
   ],
   "source": [
    "A[::-1, ::-1]  # reverses both axes"
   ]
  },
  {
   "cell_type": "markdown",
   "id": "c04f65ef",
   "metadata": {},
   "source": [
    "#### Advanced Indexing\n",
    "\n"
   ]
  },
  {
   "cell_type": "code",
   "execution_count": 34,
   "id": "4410950e",
   "metadata": {},
   "outputs": [],
   "source": [
    "d = np.array([4, 3, 2, 5, 4, 5, 4, 4])"
   ]
  },
  {
   "cell_type": "code",
   "execution_count": 35,
   "id": "d80cde1c",
   "metadata": {},
   "outputs": [
    {
     "data": {
      "text/plain": [
       "array([ True, False, False,  True, False, False,  True,  True])"
      ]
     },
     "execution_count": 35,
     "metadata": {},
     "output_type": "execute_result"
    }
   ],
   "source": [
    "mask = np.array([True, False, False, True, False, False, True, True])\n",
    "mask"
   ]
  },
  {
   "cell_type": "code",
   "execution_count": 36,
   "id": "95134d1c",
   "metadata": {},
   "outputs": [
    {
     "data": {
      "text/plain": [
       "array([4, 5, 4, 4])"
      ]
     },
     "execution_count": 36,
     "metadata": {},
     "output_type": "execute_result"
    }
   ],
   "source": [
    "d[mask]"
   ]
  },
  {
   "cell_type": "code",
   "execution_count": 37,
   "id": "a590d739",
   "metadata": {},
   "outputs": [
    {
     "data": {
      "text/plain": [
       "array([3, 5, 3, 4])"
      ]
     },
     "execution_count": 37,
     "metadata": {},
     "output_type": "execute_result"
    }
   ],
   "source": [
    "d[[1, 3, 1, 6]]"
   ]
  },
  {
   "cell_type": "markdown",
   "id": "cb3d96e1",
   "metadata": {},
   "source": [
    "##### Be careful with boolean indexing, the mask has to be a boolean array or a list of booleans."
   ]
  },
  {
   "cell_type": "code",
   "execution_count": 38,
   "id": "51626354",
   "metadata": {},
   "outputs": [
    {
     "data": {
      "text/plain": [
       "array([4, 3, 4, 4, 3, 4, 4, 3])"
      ]
     },
     "execution_count": 38,
     "metadata": {},
     "output_type": "execute_result"
    }
   ],
   "source": [
    "d[[0, 1, 0, 0, 1, 0, 0, 1]]  # although we know that True==1 and False==0"
   ]
  },
  {
   "cell_type": "markdown",
   "id": "d9993a92",
   "metadata": {},
   "source": [
    "## Helper Functions to Create Arrays"
   ]
  },
  {
   "cell_type": "code",
   "execution_count": 39,
   "id": "84cea073",
   "metadata": {},
   "outputs": [
    {
     "data": {
      "text/plain": [
       "array([0, 1, 2, 3, 4])"
      ]
     },
     "execution_count": 39,
     "metadata": {},
     "output_type": "execute_result"
    }
   ],
   "source": [
    "np.arange(5)"
   ]
  },
  {
   "cell_type": "code",
   "execution_count": 40,
   "id": "c6d3ab4c",
   "metadata": {},
   "outputs": [
    {
     "data": {
      "text/plain": [
       "array([1., 1., 1., 1., 1.])"
      ]
     },
     "execution_count": 40,
     "metadata": {},
     "output_type": "execute_result"
    }
   ],
   "source": [
    "np.ones(5)"
   ]
  },
  {
   "cell_type": "code",
   "execution_count": 41,
   "id": "0d9b0970",
   "metadata": {},
   "outputs": [
    {
     "data": {
      "text/plain": [
       "array([0., 0., 0., 0., 0.])"
      ]
     },
     "execution_count": 41,
     "metadata": {},
     "output_type": "execute_result"
    }
   ],
   "source": [
    "np.zeros(5)"
   ]
  },
  {
   "cell_type": "code",
   "execution_count": 42,
   "id": "dd7df1bd",
   "metadata": {},
   "outputs": [
    {
     "data": {
      "text/plain": [
       "array([[0., 0., 0., 0.],\n",
       "       [0., 0., 0., 0.]])"
      ]
     },
     "execution_count": 42,
     "metadata": {},
     "output_type": "execute_result"
    }
   ],
   "source": [
    "np.zeros(shape = (2, 4))"
   ]
  },
  {
   "cell_type": "code",
   "execution_count": 43,
   "id": "f8abf9ed",
   "metadata": {
    "scrolled": true
   },
   "outputs": [
    {
     "data": {
      "text/plain": [
       "array([[1., 0., 0., 0., 0.],\n",
       "       [0., 1., 0., 0., 0.],\n",
       "       [0., 0., 1., 0., 0.],\n",
       "       [0., 0., 0., 1., 0.],\n",
       "       [0., 0., 0., 0., 1.]])"
      ]
     },
     "execution_count": 43,
     "metadata": {},
     "output_type": "execute_result"
    }
   ],
   "source": [
    "np.eye(5) # diag matrix"
   ]
  },
  {
   "cell_type": "code",
   "execution_count": 44,
   "id": "3931501c",
   "metadata": {},
   "outputs": [
    {
     "data": {
      "text/plain": [
       "array([1.        , 1.11111111, 1.22222222, 1.33333333, 1.44444444,\n",
       "       1.55555556, 1.66666667, 1.77777778, 1.88888889, 2.        ])"
      ]
     },
     "execution_count": 44,
     "metadata": {},
     "output_type": "execute_result"
    }
   ],
   "source": [
    "np.linspace(1, 2, 10)"
   ]
  },
  {
   "cell_type": "code",
   "execution_count": 45,
   "id": "8bdd5a5d",
   "metadata": {},
   "outputs": [
    {
     "data": {
      "text/plain": [
       "array([1, 1, 1, 1, 1, 1, 1, 1, 1, 1])"
      ]
     },
     "execution_count": 45,
     "metadata": {},
     "output_type": "execute_result"
    }
   ],
   "source": [
    "np.ones_like(x) # create an array of 1 with same shape as x"
   ]
  },
  {
   "cell_type": "markdown",
   "id": "22c2bfb2",
   "metadata": {},
   "source": [
    "## Maths with NumPy arrays\n",
    "\n",
    "### Operations: +, `*`, `**`, `==` done elementwise."
   ]
  },
  {
   "cell_type": "code",
   "execution_count": 46,
   "id": "fbd14558",
   "metadata": {},
   "outputs": [
    {
     "data": {
      "text/plain": [
       "array([0, 1, 2, 3, 4, 5, 6, 7, 8, 9])"
      ]
     },
     "execution_count": 46,
     "metadata": {},
     "output_type": "execute_result"
    }
   ],
   "source": [
    "x = np.array([i for i in range(10)])\n",
    "x"
   ]
  },
  {
   "cell_type": "code",
   "execution_count": 47,
   "id": "29484ee1",
   "metadata": {},
   "outputs": [
    {
     "data": {
      "text/plain": [
       "array([ 0,  2,  4,  6,  8, 10, 12, 14, 16, 18])"
      ]
     },
     "execution_count": 47,
     "metadata": {},
     "output_type": "execute_result"
    }
   ],
   "source": [
    "2 * x"
   ]
  },
  {
   "cell_type": "code",
   "execution_count": 48,
   "id": "cb352d95",
   "metadata": {},
   "outputs": [
    {
     "data": {
      "text/plain": [
       "array([ 1,  2,  3,  4,  5,  6,  7,  8,  9, 10])"
      ]
     },
     "execution_count": 48,
     "metadata": {},
     "output_type": "execute_result"
    }
   ],
   "source": [
    "x + 1"
   ]
  },
  {
   "cell_type": "code",
   "execution_count": 49,
   "id": "9d2076e0",
   "metadata": {},
   "outputs": [
    {
     "data": {
      "text/plain": [
       "array([ 0,  1,  4,  9, 16, 25, 36, 49, 64, 81])"
      ]
     },
     "execution_count": 49,
     "metadata": {},
     "output_type": "execute_result"
    }
   ],
   "source": [
    "x ** 2"
   ]
  },
  {
   "cell_type": "code",
   "execution_count": 50,
   "id": "bfe4a2e5",
   "metadata": {},
   "outputs": [
    {
     "data": {
      "text/plain": [
       "array([-7.        , -6.68169011, -6.36338023, -6.04507034, -5.72676046,\n",
       "       -5.40845057, -5.09014068, -4.7718308 , -4.45352091, -4.13521102])"
      ]
     },
     "execution_count": 50,
     "metadata": {},
     "output_type": "execute_result"
    }
   ],
   "source": [
    "x / np.pi - 7"
   ]
  },
  {
   "cell_type": "code",
   "execution_count": 51,
   "id": "4ee4cbd4",
   "metadata": {},
   "outputs": [
    {
     "data": {
      "text/plain": [
       "array([False, False, False, False, False,  True, False, False, False,\n",
       "       False])"
      ]
     },
     "execution_count": 51,
     "metadata": {},
     "output_type": "execute_result"
    }
   ],
   "source": [
    "x == 5 "
   ]
  },
  {
   "cell_type": "code",
   "execution_count": 52,
   "id": "d200a146",
   "metadata": {},
   "outputs": [
    {
     "data": {
      "text/plain": [
       "7"
      ]
     },
     "execution_count": 52,
     "metadata": {},
     "output_type": "execute_result"
    }
   ],
   "source": [
    "np.sum(x > 2) # number of elts > 2 in x"
   ]
  },
  {
   "cell_type": "code",
   "execution_count": 53,
   "id": "aac2d5e5",
   "metadata": {},
   "outputs": [
    {
     "data": {
      "text/plain": [
       "array([False, False, False, False,  True, False, False, False, False,\n",
       "       False])"
      ]
     },
     "execution_count": 53,
     "metadata": {},
     "output_type": "execute_result"
    }
   ],
   "source": [
    "(x > 3) & (x < 5)  # bitwise AND"
   ]
  },
  {
   "cell_type": "markdown",
   "id": "a1a9fa70",
   "metadata": {},
   "source": [
    "### Broadcasting\n",
    "\n",
    "##### if the shapes match, operations are usually done element-by-element"
   ]
  },
  {
   "cell_type": "code",
   "execution_count": 54,
   "id": "f45f8468",
   "metadata": {},
   "outputs": [
    {
     "name": "stdout",
     "output_type": "stream",
     "text": [
      "[ 0  2  4  6  8 10 12 14 16 18]\n",
      "[ 0  1  4  9 16 25 36 49 64 81]\n"
     ]
    }
   ],
   "source": [
    "print(x + x)\n",
    "print(x * x)"
   ]
  },
  {
   "cell_type": "code",
   "execution_count": 55,
   "id": "dba945bc",
   "metadata": {},
   "outputs": [
    {
     "data": {
      "text/plain": [
       "array([ 5, 12, 21, 32])"
      ]
     },
     "execution_count": 55,
     "metadata": {},
     "output_type": "execute_result"
    }
   ],
   "source": [
    "g = np.array([1, 2, 3, 4])\n",
    "h = np.array([5, 6, 7, 8])\n",
    "g * h  "
   ]
  },
  {
   "cell_type": "code",
   "execution_count": 56,
   "id": "2e44aeb2",
   "metadata": {},
   "outputs": [
    {
     "data": {
      "text/plain": [
       "array([23, 46, 69, 92])"
      ]
     },
     "execution_count": 56,
     "metadata": {},
     "output_type": "execute_result"
    }
   ],
   "source": [
    "g * 23  # as we have already seen, the rule relaxes when the shapes meet certain constraints"
   ]
  },
  {
   "cell_type": "markdown",
   "id": "5fdf4219",
   "metadata": {},
   "source": [
    "### Broadcasting rules\n",
    "- NumPy compares the shapes element-wise, starting with the trailing dimension\n",
    "- two dimensions are compatible if they are equal or one of them is __1__\n",
    "- raises a `ValueError: frames are not aligned` if the shapes are incompatible\n",
    "- the size of a successfully broadcasted array is the maximum size along each dimension of the input arrays"
   ]
  },
  {
   "cell_type": "code",
   "execution_count": 57,
   "id": "1e79092a",
   "metadata": {},
   "outputs": [
    {
     "name": "stdout",
     "output_type": "stream",
     "text": [
      "arr_1 shape: (2, 3)\n",
      "arr_2 shape: (2, 1)\n",
      "arr_3 shape: (2, 3)\n"
     ]
    },
    {
     "data": {
      "text/plain": [
       "array([[2, 3, 4],\n",
       "       [6, 7, 8]])"
      ]
     },
     "execution_count": 57,
     "metadata": {},
     "output_type": "execute_result"
    }
   ],
   "source": [
    "arr_1 = np.array([[1, 2, 3], [4, 5, 6]])\n",
    "arr_2 = np.array([[1], [2]])\n",
    "\n",
    "print('arr_1 shape:', arr_1.shape)\n",
    "print('arr_2 shape:', arr_2.shape)\n",
    "\n",
    "arr_3 = arr_1 + arr_2\n",
    "print('arr_3 shape:', arr_3.shape)\n",
    "\n",
    "arr_3"
   ]
  },
  {
   "cell_type": "code",
   "execution_count": 58,
   "id": "fd3e5243",
   "metadata": {},
   "outputs": [
    {
     "data": {
      "text/plain": [
       "array([[ 0,  1,  2,  3,  4],\n",
       "       [ 5,  6,  7,  8,  9],\n",
       "       [10, 11, 12, 13, 14],\n",
       "       [15, 16, 17, 18, 19]])"
      ]
     },
     "execution_count": 58,
     "metadata": {},
     "output_type": "execute_result"
    }
   ],
   "source": [
    "i = np.arange(20).reshape(4, 5)\n",
    "i"
   ]
  },
  {
   "cell_type": "code",
   "execution_count": 59,
   "id": "52586445",
   "metadata": {},
   "outputs": [],
   "source": [
    "j = np.array([0, 10, 20, 30])\n",
    "k = np.array([7, 8, 9])"
   ]
  },
  {
   "cell_type": "code",
   "execution_count": 60,
   "id": "f9602c0a",
   "metadata": {},
   "outputs": [
    {
     "name": "stdout",
     "output_type": "stream",
     "text": [
      "\u001b[31m\u001b[1mValueError: operands could not be broadcast together with shapes (4,) (3,) \u001b[0m\n"
     ]
    }
   ],
   "source": [
    "%shorterr j+k"
   ]
  },
  {
   "cell_type": "code",
   "execution_count": 61,
   "id": "a6d3f3fe",
   "metadata": {},
   "outputs": [
    {
     "data": {
      "text/plain": [
       "array([[ 0],\n",
       "       [10],\n",
       "       [20],\n",
       "       [30]])"
      ]
     },
     "execution_count": 61,
     "metadata": {},
     "output_type": "execute_result"
    }
   ],
   "source": [
    "j[:, np.newaxis]  # inserts a new axis, making it two dimensional"
   ]
  },
  {
   "cell_type": "code",
   "execution_count": 62,
   "id": "bb239133",
   "metadata": {},
   "outputs": [
    {
     "data": {
      "text/plain": [
       "array([[ 7,  8,  9],\n",
       "       [17, 18, 19],\n",
       "       [27, 28, 29],\n",
       "       [37, 38, 39]])"
      ]
     },
     "execution_count": 62,
     "metadata": {},
     "output_type": "execute_result"
    }
   ],
   "source": [
    "j[:, np.newaxis] + k"
   ]
  },
  {
   "cell_type": "markdown",
   "id": "e437a392",
   "metadata": {},
   "source": [
    "## Universal Functions (`ufunc`)\n",
    "\n",
    "#### A `ufunc` is a \"vectorized\" wrapper for a function that takes a fixed number of scalar inputs and produces a fixed number of scalar outputs.\n",
    "\n",
    "NumPy provides a bunch of `ufunc`s:\n",
    "- Math operations (`add()`, `subtract()`, `square()`, `log10()`, ...)\n",
    "- Trigonometric functions (`sin()`, `cos()`, `tan()`, `deg2rad()`, ...)\n",
    "- Bit-twiddling functions (`bitwise_and()`, `right_shift()`, ...)\n",
    "- Comparison functions (`greater()`, `less_equal()`, `fmax()`, ...)\n",
    "- Floating functions (`isnan()`, `isinf()`, `floor()`, ...)\n",
    "    \n",
    "They all are subclasses of `np.ufunc`"
   ]
  },
  {
   "cell_type": "code",
   "execution_count": 63,
   "id": "9e47275d",
   "metadata": {},
   "outputs": [
    {
     "data": {
      "text/plain": [
       "numpy.ufunc"
      ]
     },
     "execution_count": 63,
     "metadata": {},
     "output_type": "execute_result"
    }
   ],
   "source": [
    "type(np.cos)  # they all are subclasses of np.ufunc"
   ]
  },
  {
   "cell_type": "code",
   "execution_count": 64,
   "id": "7e023571",
   "metadata": {},
   "outputs": [
    {
     "data": {
      "text/plain": [
       "array([ 1.        ,  0.54030231, -0.41614684, -0.9899925 , -0.65364362,\n",
       "        0.28366219,  0.96017029,  0.75390225, -0.14550003, -0.91113026])"
      ]
     },
     "execution_count": 64,
     "metadata": {},
     "output_type": "execute_result"
    }
   ],
   "source": [
    "np.cos(x) # vectorized function"
   ]
  },
  {
   "cell_type": "markdown",
   "id": "72afa398",
   "metadata": {},
   "source": [
    "## Linear algebra\n",
    "\n",
    "Matrix multiplication is done via the `@` operator or the `np.dot()` function.\n",
    "\n",
    "* $y = Ax$ \n",
    "* $\\langle x, y \\rangle = x^\\top y$"
   ]
  },
  {
   "cell_type": "code",
   "execution_count": 65,
   "id": "efd6c8fb",
   "metadata": {},
   "outputs": [
    {
     "data": {
      "text/plain": [
       "0.8814431885547835"
      ]
     },
     "execution_count": 65,
     "metadata": {},
     "output_type": "execute_result"
    }
   ],
   "source": [
    "p = 5\n",
    "x = rng.normal(size = (p,)) # \n",
    "y = rng.normal(size = (p,))\n",
    "x.dot(y) # x^T y"
   ]
  },
  {
   "cell_type": "code",
   "execution_count": 66,
   "id": "70d5bae8",
   "metadata": {},
   "outputs": [
    {
     "data": {
      "text/plain": [
       "0.8814431885547835"
      ]
     },
     "execution_count": 66,
     "metadata": {},
     "output_type": "execute_result"
    }
   ],
   "source": [
    "np.inner(x, y) # alternative"
   ]
  },
  {
   "cell_type": "code",
   "execution_count": 67,
   "id": "e449c58b",
   "metadata": {},
   "outputs": [
    {
     "data": {
      "text/plain": [
       "array([[ 0.87939797,  0.77779194,  0.0660307 ,  1.12724121,  0.46750934],\n",
       "       [-0.85929246,  0.36875078, -0.9588826 ,  0.8784503 , -0.04992591],\n",
       "       [-0.18486236, -0.68092954,  1.22254134, -0.15452948, -0.42832782],\n",
       "       [-0.35213355,  0.53230919,  0.36544406,  0.41273261,  0.430821  ],\n",
       "       [ 2.1416476 , -0.40641502, -0.51224273, -0.81377273,  0.61597942],\n",
       "       [ 1.12897229, -0.11394746, -0.84015648, -0.82448122,  0.65059279],\n",
       "       [ 0.74325417,  0.54315427, -0.66550971,  0.23216132,  0.11668581],\n",
       "       [ 0.2186886 ,  0.87142878,  0.22359555,  0.67891356,  0.06757907]])"
      ]
     },
     "execution_count": 67,
     "metadata": {},
     "output_type": "execute_result"
    }
   ],
   "source": [
    "p = 5\n",
    "n = 8\n",
    "A = rng.normal(size = (n, p))\n",
    "A"
   ]
  },
  {
   "cell_type": "code",
   "execution_count": 68,
   "id": "640024bf",
   "metadata": {},
   "outputs": [
    {
     "data": {
      "text/plain": [
       "array([-0.34325472, -0.44128407,  2.25962047, -0.83899147, -1.27635485,\n",
       "       -2.21278311, -0.84711749, -0.16512338])"
      ]
     },
     "execution_count": 68,
     "metadata": {},
     "output_type": "execute_result"
    }
   ],
   "source": [
    "y = A @ x # y = Ax \n",
    "y "
   ]
  },
  {
   "cell_type": "code",
   "execution_count": 69,
   "id": "1d5760d6",
   "metadata": {},
   "outputs": [
    {
     "data": {
      "text/plain": [
       "(8,)"
      ]
     },
     "execution_count": 69,
     "metadata": {},
     "output_type": "execute_result"
    }
   ],
   "source": [
    "y.shape"
   ]
  },
  {
   "cell_type": "code",
   "execution_count": 70,
   "id": "5e4ee0ae",
   "metadata": {},
   "outputs": [
    {
     "data": {
      "text/plain": [
       "True"
      ]
     },
     "execution_count": 70,
     "metadata": {},
     "output_type": "execute_result"
    }
   ],
   "source": [
    "np.alltrue(A.dot(x) == A @ x) # A.dot is for python <= 3.5"
   ]
  },
  {
   "cell_type": "code",
   "execution_count": 71,
   "id": "7f35f471",
   "metadata": {},
   "outputs": [
    {
     "name": "stdout",
     "output_type": "stream",
     "text": [
      "\u001b[31m\u001b[1mValueError: matmul: Input operand 1 has a mismatch in its core dimension 0, with gufunc signature (n?,k),(k,m?)->(n?,m?) (size 8 is different from 5)\u001b[0m\n"
     ]
    }
   ],
   "source": [
    "%shorterr x @ A # shape do not match"
   ]
  },
  {
   "cell_type": "markdown",
   "id": "7045c308",
   "metadata": {},
   "source": [
    "### Random numbers generation"
   ]
  },
  {
   "cell_type": "code",
   "execution_count": 72,
   "id": "0d8d6b7b",
   "metadata": {},
   "outputs": [],
   "source": [
    "rng = np.random.default_rng(42)  # always create a generator with a seed! => reproducibility"
   ]
  },
  {
   "cell_type": "code",
   "execution_count": 73,
   "id": "4cb66846",
   "metadata": {},
   "outputs": [
    {
     "data": {
      "text/plain": [
       "array([[0.77395605, 0.43887844, 0.85859792, 0.69736803],\n",
       "       [0.09417735, 0.97562235, 0.7611397 , 0.78606431],\n",
       "       [0.12811363, 0.45038594, 0.37079802, 0.92676499]])"
      ]
     },
     "execution_count": 73,
     "metadata": {},
     "output_type": "execute_result"
    }
   ],
   "source": [
    "rng.random((3, 4)) # Unif([0,1])"
   ]
  },
  {
   "cell_type": "code",
   "execution_count": 74,
   "id": "9df0f5b0",
   "metadata": {},
   "outputs": [
    {
     "data": {
      "text/plain": [
       "array([3.2193256 , 4.11380807, 2.21707099, 1.13619361, 2.77292394,\n",
       "       0.31908628, 4.13815586, 3.158322  , 3.7904387 , 1.77262984])"
      ]
     },
     "execution_count": 74,
     "metadata": {},
     "output_type": "execute_result"
    }
   ],
   "source": [
    "rng.uniform(0, 5, 10) # Unif([0,5])"
   ]
  },
  {
   "cell_type": "code",
   "execution_count": 75,
   "id": "27725838",
   "metadata": {},
   "outputs": [
    {
     "data": {
      "text/plain": [
       "array([[1, 9, 5, 9, 7, 8, 7, 2, 4, 5, 5, 1, 5, 2, 7, 7, 9, 7, 4, 9],\n",
       "       [4, 3, 9, 4, 1, 5, 8, 2, 5, 2, 7, 5, 3, 3, 6, 7, 9, 4, 2, 8]])"
      ]
     },
     "execution_count": 75,
     "metadata": {},
     "output_type": "execute_result"
    }
   ],
   "source": [
    "rng.integers(1, 10, (2, 20)) # discrete uniform of {1, ..., 10}"
   ]
  },
  {
   "cell_type": "code",
   "execution_count": 76,
   "id": "efe22e83",
   "metadata": {},
   "outputs": [
    {
     "data": {
      "text/plain": [
       "array([[-1.17119517,  0.54315427, -0.66550971,  0.23216132],\n",
       "       [ 0.11668581,  0.2186886 ,  0.87142878,  0.22359555],\n",
       "       [ 0.67891356,  0.06757907,  0.2891194 ,  0.63128823]])"
      ]
     },
     "execution_count": 76,
     "metadata": {},
     "output_type": "execute_result"
    }
   ],
   "source": [
    "rng.normal(loc = 0, scale = 1, size = (3, 4)) # N(loc, scale)"
   ]
  },
  {
   "cell_type": "code",
   "execution_count": null,
   "id": "909a22ef",
   "metadata": {},
   "outputs": [],
   "source": []
  }
 ],
 "metadata": {
  "kernelspec": {
   "display_name": "Python 3 (ipykernel)",
   "language": "python",
   "name": "python3"
  },
  "language_info": {
   "codemirror_mode": {
    "name": "ipython",
    "version": 3
   },
   "file_extension": ".py",
   "mimetype": "text/x-python",
   "name": "python",
   "nbconvert_exporter": "python",
   "pygments_lexer": "ipython3",
   "version": "3.10.4"
  }
 },
 "nbformat": 4,
 "nbformat_minor": 5
}
