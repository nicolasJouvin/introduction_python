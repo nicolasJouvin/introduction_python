{
 "cells": [
  {
   "cell_type": "markdown",
   "id": "7aa72913",
   "metadata": {},
   "source": [
    "# What you need to do before the first course\n",
    "\n",
    "> **Note 1** For this course, you will use your own individual laptop (whatever the OS). If you don't have one, you can pair with some colleagues. \n",
    "\n",
    "> **Note 2** This document and other material are available on the [github page](https://github.com/nicolasJouvin/introduction_python) of the course\n",
    "\n",
    "\n",
    "Here is the list of what should be installed before the 1st session, for those who have a machine:\n",
    "\n",
    "### Mandatory\n",
    "\n",
    " * The  [anaconda](https://www.anaconda.com/products/distribution) distribution : this is Python + lots of useful scientific package.\n",
    " * A [conda environment](https://conda.io/projects/conda/en/latest/user-guide/tasks/manage-environments.html) named  `M2Evry` with Python >= 3.8\n",
    "     * For linux/MacOS: open a terminal and type `conda create --name M2Evry python=3.10` \n",
    "     * For windows : open the *conda prompt* and type `conda create --name M2Evry python=3.10`\n",
    " * run `conda activate M2Evry`: this activates the Python environment you just created\n",
    " * run `pip install notebook` to install [jupyter notebook](https://www.dataquest.io/blog/jupyter-notebook-tutorial/). This will allow you to open `introduction_python_intro.ipynb` in you default browser.\n",
    "    \n",
    "\n",
    "### Strongly recommanded\n",
    " \n",
    " * [Git](https://git-scm.com/book/fr/v2/D%C3%A9marrage-rapide-Installation-de-Git) : you can type `git clone git@github.com:nicolasJouvin/introduction_python.git` to track the course's github repository.\n",
    " * A Python development environment (IDE), I recommend [Visual Studio Code](https://code.visualstudio.com/docs/languages/python) and its python add-ins. You can also install one of the two following but I will provide a very limited help for those:\n",
    "     * [Pycharm Community](https://www.jetbrains.com/fr-fr/pycharm/download/) \n",
    "     * **Spyder** : comes with anaconda\n",
    "     \n"
   ]
  },
  {
   "cell_type": "markdown",
   "id": "42021da1",
   "metadata": {},
   "source": [
    "# Basic of the Python language\n",
    "\n",
    "Author : Nicolas Jouvin\n",
    "\n",
    "**Warning**: We'll use Python 3 throughout the course. The following code blocks should run. If it doesn't, make sure you are using the right Python virtual environment created for the course (*e.g.* with `conda create --name <my-desired-env-name>`).\n",
    "\n",
    " * Python files use the `.py` extension.\n",
    " * This is an IPython (interactive python) **notebook** with `.ipynb` extension. Nice tutorial on notebook available [here](https://github.com/escape2020/school2022/blob/main/jupyter_notebooks/Notebook-tutorial_basics.ipynb).\n"
   ]
  },
  {
   "cell_type": "code",
   "execution_count": 1,
   "id": "ded913a8",
   "metadata": {},
   "outputs": [
    {
     "name": "stdout",
     "output_type": "stream",
     "text": [
      "Python version:  3.10.4 (main, Mar 31 2022, 08:41:55) [GCC 7.5.0]\n"
     ]
    }
   ],
   "source": [
    "import sys\n",
    "print(f\"Python version:  {sys.version}\")"
   ]
  },
  {
   "cell_type": "code",
   "execution_count": 2,
   "id": "b2e16458",
   "metadata": {},
   "outputs": [
    {
     "name": "stdout",
     "output_type": "stream",
     "text": [
      "I am using Python 3 :)\n"
     ]
    }
   ],
   "source": [
    "print(\"I am using Python 3 :)\")"
   ]
  },
  {
   "cell_type": "code",
   "execution_count": 88,
   "id": "44b7e1f3",
   "metadata": {},
   "outputs": [
    {
     "name": "stdout",
     "output_type": "stream",
     "text": [
      "Help on built-in function print in module builtins:\n",
      "\n",
      "print(...)\n",
      "    print(value, ..., sep=' ', end='\\n', file=sys.stdout, flush=False)\n",
      "    \n",
      "    Prints the values to a stream, or to sys.stdout by default.\n",
      "    Optional keyword arguments:\n",
      "    file:  a file-like object (stream); defaults to the current sys.stdout.\n",
      "    sep:   string inserted between values, default a space.\n",
      "    end:   string appended after the last value, default a newline.\n",
      "    flush: whether to forcibly flush the stream.\n",
      "\n"
     ]
    }
   ],
   "source": [
    "# Most common geek advice:\"RTFM\" & \"lmgtfy\" ;) \n",
    "help(print)"
   ]
  },
  {
   "cell_type": "markdown",
   "id": "43486cd0",
   "metadata": {},
   "source": [
    "## Variables and basic types\n",
    "\n",
    "Variables names can contain `a-z`, `A-Z`, `0-9` and some special character as `_` but must always begin by a letter. By convention, variables names are smallcase. Some iportant things to remember :\n",
    "\n",
    "* Indexation starts at 0\n",
    "* Modifying a Python object ? Make sure you are using `copy()` if needed.  \n",
    "\n",
    "### Numbers & basic math \n",
    "\n",
    "BY default, `Python` knows how to deal with numbers and has already defined operations such as addition `+`, multiplication `*` or exponentiation `**`."
   ]
  },
  {
   "cell_type": "code",
   "execution_count": 4,
   "id": "5587d0c0",
   "metadata": {},
   "outputs": [
    {
     "data": {
      "text/plain": [
       "6"
      ]
     },
     "execution_count": 4,
     "metadata": {},
     "output_type": "execute_result"
    }
   ],
   "source": [
    "1 + 2 + 3 # this is a comment"
   ]
  },
  {
   "cell_type": "code",
   "execution_count": 5,
   "id": "4c6e0653",
   "metadata": {},
   "outputs": [
    {
     "name": "stdout",
     "output_type": "stream",
     "text": [
      "2\n",
      "5\n",
      "6\n",
      "8\n"
     ]
    }
   ],
   "source": [
    "x = 2\n",
    "y = 3\n",
    "print(x)\n",
    "print(x+y)\n",
    "print(x*y)\n",
    "print(x ** y)"
   ]
  },
  {
   "cell_type": "code",
   "execution_count": 6,
   "id": "acc42e56",
   "metadata": {},
   "outputs": [
    {
     "name": "stdout",
     "output_type": "stream",
     "text": [
      "2 3 4\n"
     ]
    }
   ],
   "source": [
    "x, y, z = 2, 3, 4 # unpacking\n",
    "print(x, y, z) # automatic formatting with empty space \" \""
   ]
  },
  {
   "cell_type": "code",
   "execution_count": 7,
   "id": "3033e0bb",
   "metadata": {},
   "outputs": [
    {
     "name": "stdout",
     "output_type": "stream",
     "text": [
      "<class 'int'>\n",
      "2.0\n",
      "<class 'float'>\n"
     ]
    }
   ],
   "source": [
    "print(type(x))\n",
    "x_f = 2.0\n",
    "print(x_f)\n",
    "print(type(x_f))"
   ]
  },
  {
   "cell_type": "code",
   "execution_count": 8,
   "id": "cc17e6ff",
   "metadata": {},
   "outputs": [
    {
     "name": "stdout",
     "output_type": "stream",
     "text": [
      "4 <class 'int'>\n",
      "4.0 <class 'float'>\n"
     ]
    }
   ],
   "source": [
    "print(x * 2, type(x * 2)) # integer*integer \n",
    "print(x_f * 2, type(x_f * 2)) # float*integer "
   ]
  },
  {
   "cell_type": "code",
   "execution_count": 9,
   "id": "8fe4f470",
   "metadata": {},
   "outputs": [
    {
     "name": "stdout",
     "output_type": "stream",
     "text": [
      "0.5\n",
      "0.5\n",
      "0.0\n"
     ]
    }
   ],
   "source": [
    "# Standard division\n",
    "print(1 / x) \n",
    "print(1 / x_f)\n",
    "# Floor division\n",
    "print(1 // x_f)"
   ]
  },
  {
   "cell_type": "code",
   "execution_count": 10,
   "id": "f02eda3e",
   "metadata": {},
   "outputs": [
    {
     "name": "stdout",
     "output_type": "stream",
     "text": [
      "1\n",
      "0\n"
     ]
    }
   ],
   "source": [
    "# Booleans\n",
    "b = True\n",
    "if b:\n",
    "    print(int(b))\n",
    "    \n",
    "b = False\n",
    "if not b:\n",
    "    print(int(b))"
   ]
  },
  {
   "cell_type": "code",
   "execution_count": 2,
   "id": "1a4a235a",
   "metadata": {},
   "outputs": [],
   "source": [
    "i = 4 # try 5"
   ]
  },
  {
   "cell_type": "markdown",
   "id": "9eaccf91",
   "metadata": {},
   "source": [
    "The two following blocks are equivalent, although the second block is more \"Pythonic\""
   ]
  },
  {
   "cell_type": "code",
   "execution_count": 3,
   "id": "8e98be18",
   "metadata": {},
   "outputs": [
    {
     "name": "stdout",
     "output_type": "stream",
     "text": [
      "even\n"
     ]
    }
   ],
   "source": [
    "if i % 2 == 0:\n",
    "    parity = \"even\"\n",
    "else:\n",
    "    parity = 'odd'\n",
    "    \n",
    "print(parity)"
   ]
  },
  {
   "cell_type": "code",
   "execution_count": 4,
   "id": "0f847692",
   "metadata": {},
   "outputs": [
    {
     "name": "stdout",
     "output_type": "stream",
     "text": [
      "even\n"
     ]
    }
   ],
   "source": [
    "# Conditional assignment in one line\n",
    "parity = \"even\" if i % 2 == 0 else \"odd\"\n",
    "print(parity)"
   ]
  },
  {
   "cell_type": "markdown",
   "id": "cef028a0",
   "metadata": {},
   "source": [
    "### String"
   ]
  },
  {
   "cell_type": "code",
   "execution_count": 6,
   "id": "fa7e9d45",
   "metadata": {},
   "outputs": [
    {
     "name": "stdout",
     "output_type": "stream",
     "text": [
      "True\n"
     ]
    }
   ],
   "source": [
    "s = 'abcd'\n",
    "s2 = \"abcd\"\n",
    "print(s is s2) # string are object"
   ]
  },
  {
   "cell_type": "code",
   "execution_count": 13,
   "id": "7b3f783e",
   "metadata": {},
   "outputs": [
    {
     "data": {
      "text/plain": [
       "['ab', 'd']"
      ]
     },
     "execution_count": 13,
     "metadata": {},
     "output_type": "execute_result"
    }
   ],
   "source": [
    "s.split('c')"
   ]
  },
  {
   "cell_type": "code",
   "execution_count": 14,
   "id": "560ff69d",
   "metadata": {},
   "outputs": [
    {
     "name": "stdout",
     "output_type": "stream",
     "text": [
      "abcdefgh\n",
      "abcdabcdabcdabcd\n"
     ]
    }
   ],
   "source": [
    "s3 = 'efgh'\n",
    "print(s + s3)\n",
    "print(4*s)"
   ]
  },
  {
   "cell_type": "code",
   "execution_count": 87,
   "id": "0fbe0fa8",
   "metadata": {},
   "outputs": [
    {
     "name": "stdout",
     "output_type": "stream",
     "text": [
      "True\n",
      "False\n",
      "a\n",
      "b\n",
      "c\n",
      "d\n"
     ]
    }
   ],
   "source": [
    "# string are iterable\n",
    "print( 'ab' in s)\n",
    "print( 'xyz' in s)\n",
    "for letter in s:\n",
    "    print(letter) "
   ]
  },
  {
   "cell_type": "code",
   "execution_count": 7,
   "id": "14327fc9",
   "metadata": {},
   "outputs": [
    {
     "data": {
      "text/plain": [
       "'a'"
      ]
     },
     "execution_count": 7,
     "metadata": {},
     "output_type": "execute_result"
    }
   ],
   "source": [
    "# strings are indexable\n",
    "s[0]"
   ]
  },
  {
   "cell_type": "markdown",
   "id": "2fc750e9",
   "metadata": {},
   "source": [
    "### List "
   ]
  },
  {
   "cell_type": "code",
   "execution_count": 16,
   "id": "1903a569",
   "metadata": {},
   "outputs": [],
   "source": [
    "l = [1, 2.3, 'a'] # list"
   ]
  },
  {
   "cell_type": "code",
   "execution_count": 17,
   "id": "0d805fc9",
   "metadata": {},
   "outputs": [
    {
     "name": "stdout",
     "output_type": "stream",
     "text": [
      "['change', 2.3, 'a']\n"
     ]
    }
   ],
   "source": [
    "l[0] = 'change' # re-assign first element\n",
    "print(l)"
   ]
  },
  {
   "cell_type": "code",
   "execution_count": 18,
   "id": "4eb06f91",
   "metadata": {},
   "outputs": [
    {
     "name": "stdout",
     "output_type": "stream",
     "text": [
      "['change', 'modif l2', 'a']\n",
      "['change', 'modif l2', 'a']\n",
      "True\n"
     ]
    }
   ],
   "source": [
    "l2 = l\n",
    "l2[1] = 'modif l2'\n",
    "print(l2)\n",
    "print(l) \n",
    "print(l is l2)"
   ]
  },
  {
   "cell_type": "code",
   "execution_count": 19,
   "id": "00817c7a",
   "metadata": {},
   "outputs": [
    {
     "name": "stdout",
     "output_type": "stream",
     "text": [
      "False\n",
      "['change', 'modif l2', 'a']\n",
      "['change', 'modif l2', 'b']\n"
     ]
    }
   ],
   "source": [
    "# use copy() method \n",
    "l2 = l.copy()\n",
    "l2[2] = 'b'\n",
    "print(l is l2)\n",
    "print(l)\n",
    "print(l2)"
   ]
  },
  {
   "cell_type": "code",
   "execution_count": 20,
   "id": "921183ae",
   "metadata": {},
   "outputs": [
    {
     "data": {
      "text/plain": [
       "[0, 1, 2, 3, 4, 5, 6, 7, 8, 9]"
      ]
     },
     "execution_count": 20,
     "metadata": {},
     "output_type": "execute_result"
    }
   ],
   "source": [
    "# List comprehension\n",
    "n = 10\n",
    "x = [i for i in range(n)] \n",
    "x"
   ]
  },
  {
   "cell_type": "code",
   "execution_count": 21,
   "id": "d66a954b",
   "metadata": {},
   "outputs": [
    {
     "name": "stdout",
     "output_type": "stream",
     "text": [
      "[0, 1, 2, 3, 4, 5, 6, 7, 8, 9, 'a']\n"
     ]
    }
   ],
   "source": [
    "x.append(\"a\") # x is modified in-place\n",
    "print(x)"
   ]
  },
  {
   "cell_type": "code",
   "execution_count": 22,
   "id": "a92d864d",
   "metadata": {},
   "outputs": [
    {
     "data": {
      "text/plain": [
       "[0, 2, 3, 4, 5, 6, 7, 8, 9, 'a']"
      ]
     },
     "execution_count": 22,
     "metadata": {},
     "output_type": "execute_result"
    }
   ],
   "source": [
    "x.pop(1) # remove value in position 1\n",
    "x"
   ]
  },
  {
   "cell_type": "code",
   "execution_count": 23,
   "id": "069dcca5",
   "metadata": {},
   "outputs": [
    {
     "data": {
      "text/plain": [
       "[0, 2, 3, 4, 5, 6, 7, 8, 9]"
      ]
     },
     "execution_count": 23,
     "metadata": {},
     "output_type": "execute_result"
    }
   ],
   "source": [
    "x.remove(\"a\")\n",
    "x"
   ]
  },
  {
   "cell_type": "code",
   "execution_count": 24,
   "id": "6e2b25a5",
   "metadata": {},
   "outputs": [
    {
     "name": "stdout",
     "output_type": "stream",
     "text": [
      "['change', 'modif l2', 'a', 4, 5, 6]\n",
      "['change', 'modif l2', 'a', 'change', 'modif l2', 'a']\n"
     ]
    }
   ],
   "source": [
    "# /!\\ lists are not vectors/matrices\n",
    "print(l + [4, 5, 6])\n",
    "print(2 * l)"
   ]
  },
  {
   "cell_type": "markdown",
   "id": "ac88a792",
   "metadata": {},
   "source": [
    "### Dictionnaries"
   ]
  },
  {
   "cell_type": "code",
   "execution_count": 25,
   "id": "c98387bd",
   "metadata": {},
   "outputs": [],
   "source": [
    "d = {'mykey': 1, 'foo': 2.3, 'bar': 'a'} # dict"
   ]
  },
  {
   "cell_type": "code",
   "execution_count": 26,
   "id": "13473ac1",
   "metadata": {},
   "outputs": [
    {
     "name": "stdout",
     "output_type": "stream",
     "text": [
      "Dictionaries are indexed by KEYS not integers.\n",
      "a\n"
     ]
    }
   ],
   "source": [
    "try:\n",
    "    print(d[0])\n",
    "except:\n",
    "    print(\"Dictionaries are indexed by KEYS not integers.\")\n",
    "print(d[\"bar\"])"
   ]
  },
  {
   "cell_type": "code",
   "execution_count": 27,
   "id": "a07bac35",
   "metadata": {},
   "outputs": [
    {
     "name": "stdout",
     "output_type": "stream",
     "text": [
      "dict_keys(['mykey', 'foo', 'bar'])\n",
      "dict_values([1, 2.3, 'a'])\n",
      "mykey 1\n",
      "foo 2.3\n",
      "bar a\n"
     ]
    }
   ],
   "source": [
    "print(d.keys())\n",
    "print(d.values())\n",
    "for key, val in d.items():\n",
    "    print(key, val)"
   ]
  },
  {
   "cell_type": "code",
   "execution_count": 28,
   "id": "9c41d9d9",
   "metadata": {},
   "outputs": [
    {
     "name": "stdout",
     "output_type": "stream",
     "text": [
      "False\n",
      "{'mykey': 1, 'foo': 2.3, 'bar': 'a'}\n",
      "{'mykey': 1, 'foo': 'change d2', 'bar': 'a'}\n"
     ]
    }
   ],
   "source": [
    "d2 = d.copy()\n",
    "d2['foo'] = 'change d2'\n",
    "print(d is d2)\n",
    "print(d)\n",
    "print(d2)"
   ]
  },
  {
   "cell_type": "code",
   "execution_count": 34,
   "id": "10eeeb25",
   "metadata": {},
   "outputs": [
    {
     "data": {
      "text/plain": [
       "{0: 10, 1: 11, 2: 12, 3: 13, 4: 14, 5: 15, 6: 16, 7: 17, 8: 18, 9: 19}"
      ]
     },
     "execution_count": 34,
     "metadata": {},
     "output_type": "execute_result"
    }
   ],
   "source": [
    "# Dict comprehension\n",
    "x = {key: value for key, value in enumerate(range(10, 20))}\n",
    "x"
   ]
  },
  {
   "cell_type": "markdown",
   "id": "02270206",
   "metadata": {},
   "source": [
    "### Tuple"
   ]
  },
  {
   "cell_type": "code",
   "execution_count": 29,
   "id": "100f8ad6",
   "metadata": {},
   "outputs": [
    {
     "name": "stdout",
     "output_type": "stream",
     "text": [
      "Tuple are not mutable. Cannot change the value.\n"
     ]
    }
   ],
   "source": [
    "t = (1, 2.3, 'a') # tuple\n",
    "\n",
    "try:\n",
    "    t[0] = 10 \n",
    "except:\n",
    "    print(\"Tuple are not mutable. Cannot change the value.\")"
   ]
  },
  {
   "cell_type": "markdown",
   "id": "0536ab44",
   "metadata": {},
   "source": [
    "## Function definition"
   ]
  },
  {
   "cell_type": "code",
   "execution_count": 30,
   "id": "3356659d",
   "metadata": {},
   "outputs": [],
   "source": [
    "def add(a, b):\n",
    "    \"\"\"\n",
    "    This is a Python docstring: a long comment used for documenting functions, class and methods.\n",
    "    \"\"\"\n",
    "    return(a + b)"
   ]
  },
  {
   "cell_type": "code",
   "execution_count": 35,
   "id": "a6f371d8",
   "metadata": {},
   "outputs": [
    {
     "data": {
      "text/plain": [
       "3"
      ]
     },
     "execution_count": 35,
     "metadata": {},
     "output_type": "execute_result"
    }
   ],
   "source": [
    "add(1,2)"
   ]
  },
  {
   "cell_type": "code",
   "execution_count": 36,
   "id": "1eb358ea",
   "metadata": {},
   "outputs": [
    {
     "data": {
      "text/plain": [
       "2"
      ]
     },
     "execution_count": 36,
     "metadata": {},
     "output_type": "execute_result"
    }
   ],
   "source": [
    "def multiply(a, b):\n",
    "    return(a*b)\n",
    "\n",
    "multiply(1,2)"
   ]
  },
  {
   "cell_type": "code",
   "execution_count": 38,
   "id": "097a5ea4",
   "metadata": {},
   "outputs": [
    {
     "data": {
      "text/plain": [
       "{'addition': 3, 'multiplication': 2}"
      ]
     },
     "execution_count": 38,
     "metadata": {},
     "output_type": "execute_result"
    }
   ],
   "source": [
    "# Dictionnaries are useful to return several results with clear values\n",
    "def add_multiply(a, b):\n",
    "    return({'addition': add(a,b), 'multiplication': multiply(a,b)})\n",
    "\n",
    "add_multiply(1,2)"
   ]
  },
  {
   "cell_type": "code",
   "execution_count": 43,
   "id": "444bf224",
   "metadata": {},
   "outputs": [
    {
     "name": "stdout",
     "output_type": "stream",
     "text": [
      "['a', 'modif']\n"
     ]
    }
   ],
   "source": [
    "# /!\\ function can do in-place modification\n",
    "def change_value(l, val, idx):\n",
    "    l[idx] = val\n",
    "    return None\n",
    "\n",
    "l = ['a', 'b']\n",
    "change_value(l=l, val = 'modif', idx=1)\n",
    "print(l)"
   ]
  },
  {
   "cell_type": "markdown",
   "id": "2744b4b9",
   "metadata": {},
   "source": [
    "## Class\n",
    "\n",
    "`Python` is an object-oriented language and therefore make extensive use of class and method. By convention, class use `CamelCase`, *i.e.* first letter of each word is uppercase.\n"
   ]
  },
  {
   "cell_type": "code",
   "execution_count": 67,
   "id": "8a9d7dab",
   "metadata": {},
   "outputs": [
    {
     "name": "stdout",
     "output_type": "stream",
     "text": [
      "2 / 4\n",
      "2 / 4\n"
     ]
    }
   ],
   "source": [
    "class MyRational:\n",
    "    \"\"\"\n",
    "    A class storing a rational number $x = \\frac{a}{b}$ where $a$ and $b \\neq 0$ are integers.\n",
    "    \"\"\"\n",
    "    \n",
    "    def __init__(self, a, b):\n",
    "        \"\"\"\n",
    "        __init__() will be used by Python to initialiaze an instance of MyRational class.\n",
    "        \"\"\"\n",
    "        if b ==0:\n",
    "            raise ValueError(r\"The denominator $b$ should be non zero\")\n",
    "        self.a = a\n",
    "        self.b = b\n",
    "        \n",
    "    def __str__(self):\n",
    "        \"\"\"\n",
    "        __str__() will be used by Python to print() an object of class MyRational\n",
    "        \"\"\"\n",
    "        s = str(f\"{self.a} / {self.b}\")\n",
    "        return(s)\n",
    "        \n",
    "x = MyRational(2, 4)\n",
    "print(x)\n",
    "print(x.__str__()) # equivalent"
   ]
  },
  {
   "cell_type": "code",
   "execution_count": 78,
   "id": "0e9fd294",
   "metadata": {},
   "outputs": [],
   "source": [
    "# Inheritence\n",
    "\n",
    "class MySimpleRational(MyRational):\n",
    "    \"\"\"\n",
    "    A class inheriting from MyRational. Simplify the fraction\n",
    "    \"\"\"\n",
    "        \n",
    "    def __init__(self, a, b):\n",
    "        \"\"\"\n",
    "        We use the __init__ method of the parent class with the `super` keyword. \n",
    "        Then, we simplify self.a / self.b.with the gcd.\n",
    "        \"\"\"\n",
    "        super().__init__(a, b) \n",
    "        # equivalent to: MyRational.__init__(a, b) \n",
    "        \n",
    "        # Solution \n",
    "        def _pgcd(a, b):\n",
    "            \"Détermine le plus grand commun diviseur entre a et b\"\n",
    "            if a < b:\n",
    "                a, b = b, a\n",
    "            r = a % b\n",
    "            while r:\n",
    "                a, b = b, r\n",
    "                r = a % b\n",
    "            return b\n",
    "        gcd = _pgcd(self.a, self.b)\n",
    "        self.a, self.b = self.a // gcd, self.b // gcd\n",
    "        "
   ]
  },
  {
   "cell_type": "code",
   "execution_count": 85,
   "id": "9510b799",
   "metadata": {},
   "outputs": [
    {
     "name": "stdout",
     "output_type": "stream",
     "text": [
      "8 / 13\n"
     ]
    }
   ],
   "source": [
    "x = MySimpleRational(32, 52)\n",
    "print(x) # inherits the __str__ from the parent class"
   ]
  },
  {
   "cell_type": "markdown",
   "id": "00fabb02",
   "metadata": {},
   "source": [
    "## Importing modules\n",
    "\n",
    "By default, `Python` does not come with much tools and functions. This is especially the case for scientific programming: the language does not now what a vector or a matrix is, nor does it now how to compute basic operations such as $a^\\top b$ or $AB$.\n",
    "\n",
    "Luckily, smart peoples have implemented those things for us. In order to use them, we need to **import** them."
   ]
  },
  {
   "cell_type": "code",
   "execution_count": 44,
   "id": "c748577b",
   "metadata": {},
   "outputs": [
    {
     "name": "stdout",
     "output_type": "stream",
     "text": [
      "The current working directory is /home/nicolas/enseignement/IntroToMLWithPython_Evry/Session1/TP\n"
     ]
    }
   ],
   "source": [
    "import os\n",
    "print('The current working directory is', os.getcwd())"
   ]
  },
  {
   "cell_type": "markdown",
   "id": "cf0b3455",
   "metadata": {},
   "source": [
    "Sometimes we do not need the whole module but only specific functions/classes in it `from <module> import <something>` syntax."
   ]
  },
  {
   "cell_type": "code",
   "execution_count": 69,
   "id": "a2dd8c26",
   "metadata": {},
   "outputs": [
    {
     "name": "stdout",
     "output_type": "stream",
     "text": [
      "/home/nicolas/enseignement/IntroToMLWithPython_Evry/Session1/TP\n"
     ]
    }
   ],
   "source": [
    "from os import getcwd\n",
    "print(getcwd())"
   ]
  },
  {
   "cell_type": "markdown",
   "id": "1e420ecc",
   "metadata": {},
   "source": [
    "Sometimes the name of the module is too long so we use `aliases` with the `as` keyword."
   ]
  },
  {
   "cell_type": "code",
   "execution_count": 70,
   "id": "e9950724",
   "metadata": {},
   "outputs": [
    {
     "data": {
      "text/plain": [
       "array([1, 2])"
      ]
     },
     "execution_count": 70,
     "metadata": {},
     "output_type": "execute_result"
    }
   ],
   "source": [
    "import numpy as np\n",
    "np.array([1, 2])"
   ]
  },
  {
   "cell_type": "code",
   "execution_count": null,
   "id": "d3a9dfe4",
   "metadata": {},
   "outputs": [],
   "source": []
  }
 ],
 "metadata": {
  "kernelspec": {
   "display_name": "Python 3 (ipykernel)",
   "language": "python",
   "name": "python3"
  },
  "language_info": {
   "codemirror_mode": {
    "name": "ipython",
    "version": 3
   },
   "file_extension": ".py",
   "mimetype": "text/x-python",
   "name": "python",
   "nbconvert_exporter": "python",
   "pygments_lexer": "ipython3",
   "version": "3.10.4"
  }
 },
 "nbformat": 4,
 "nbformat_minor": 5
}
