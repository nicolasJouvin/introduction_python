{
 "cells": [
  {
   "cell_type": "code",
   "execution_count": 1,
   "id": "14877b5b",
   "metadata": {},
   "outputs": [
    {
     "name": "stdout",
     "output_type": "stream",
     "text": [
      "True False\n",
      "1 0\n"
     ]
    }
   ],
   "source": [
    "x = True\n",
    "y = not x\n",
    "print(x, y)\n",
    "print(int(x), int(y))"
   ]
  },
  {
   "cell_type": "code",
   "execution_count": 2,
   "id": "e3a7630a",
   "metadata": {},
   "outputs": [
    {
     "data": {
      "text/plain": [
       "1234"
      ]
     },
     "execution_count": 2,
     "metadata": {},
     "output_type": "execute_result"
    }
   ],
   "source": [
    "int('1234')"
   ]
  },
  {
   "cell_type": "code",
   "execution_count": 3,
   "id": "0095fbf1",
   "metadata": {},
   "outputs": [
    {
     "name": "stdout",
     "output_type": "stream",
     "text": [
      "I'm True\n",
      "Hello world!\n"
     ]
    }
   ],
   "source": [
    "if x:\n",
    "    print(\"I'm True\")\n",
    "else:\n",
    "    print(\"I'm False\")\n",
    "\n",
    "print('Hello world!')\n"
   ]
  },
  {
   "cell_type": "code",
   "execution_count": 4,
   "id": "395c72ec",
   "metadata": {},
   "outputs": [
    {
     "data": {
      "text/plain": [
       "True"
      ]
     },
     "execution_count": 4,
     "metadata": {},
     "output_type": "execute_result"
    }
   ],
   "source": [
    "1 == 1"
   ]
  },
  {
   "cell_type": "code",
   "execution_count": 5,
   "id": "7055ef99",
   "metadata": {},
   "outputs": [
    {
     "name": "stdout",
     "output_type": "stream",
     "text": [
      "2\n",
      "2\n"
     ]
    }
   ],
   "source": [
    "a = 1\n",
    "b = 2\n",
    "maxi = a\n",
    "if b > a:\n",
    "    maxi = b\n",
    "print(maxi)\n",
    "\n",
    "if a < b:\n",
    "    print(b)\n",
    "else:\n",
    "    print(a)"
   ]
  },
  {
   "cell_type": "code",
   "execution_count": 6,
   "id": "db651f59",
   "metadata": {},
   "outputs": [
    {
     "name": "stdout",
     "output_type": "stream",
     "text": [
      "[1, 2.3, 'a']\n",
      "<class 'list'>\n",
      "3\n",
      "1\n"
     ]
    }
   ],
   "source": [
    "l = [1, 2.3, 'a']\n",
    "print(l)\n",
    "print(type(l)) # a list\n",
    "print(len(l)) # number of elts\n",
    "print(l[0])\n",
    "# first elt"
   ]
  },
  {
   "cell_type": "code",
   "execution_count": 7,
   "id": "4af8176f",
   "metadata": {},
   "outputs": [
    {
     "name": "stdout",
     "output_type": "stream",
     "text": [
      "0 1\n",
      "1 2.3\n",
      "2 a\n"
     ]
    }
   ],
   "source": [
    "for i in range(len(l)):\n",
    "    print(i, l[i])"
   ]
  },
  {
   "cell_type": "code",
   "execution_count": 8,
   "id": "f12d7a50",
   "metadata": {},
   "outputs": [
    {
     "data": {
      "text/plain": [
       "2.3"
      ]
     },
     "execution_count": 8,
     "metadata": {},
     "output_type": "execute_result"
    }
   ],
   "source": [
    "l[-2]"
   ]
  },
  {
   "cell_type": "code",
   "execution_count": 9,
   "id": "8d275c4d",
   "metadata": {},
   "outputs": [
    {
     "name": "stdout",
     "output_type": "stream",
     "text": [
      "1\n",
      "2.3\n",
      "a\n"
     ]
    }
   ],
   "source": [
    "for elt in l:\n",
    "    print(elt)"
   ]
  },
  {
   "cell_type": "code",
   "execution_count": 10,
   "id": "64dfa15b",
   "metadata": {},
   "outputs": [
    {
     "name": "stdout",
     "output_type": "stream",
     "text": [
      "[1, 3, 4] [3, 7.6, 0.6]\n"
     ]
    }
   ],
   "source": [
    "l = [-1, 3, -2.3, 7.6, 0.6, -7.986]\n",
    "idx_l = []\n",
    "pos_l = []\n",
    "for idx, elt in enumerate(l):\n",
    "    if elt >= 0:\n",
    "        idx_l.append(idx)\n",
    "        pos_l.append(elt)\n",
    "        \n",
    "print(idx_l, pos_l)"
   ]
  },
  {
   "cell_type": "code",
   "execution_count": 11,
   "id": "b59d22f5",
   "metadata": {},
   "outputs": [
    {
     "name": "stdout",
     "output_type": "stream",
     "text": [
      "[-1, 3, -2.3, 7.6, 0.6, -7.986]\n"
     ]
    },
    {
     "data": {
      "text/plain": [
       "[-1, 3, 7.6, 0.6, -7.986]"
      ]
     },
     "execution_count": 11,
     "metadata": {},
     "output_type": "execute_result"
    }
   ],
   "source": [
    "print(l)\n",
    "l.pop(2)\n",
    "l"
   ]
  },
  {
   "cell_type": "code",
   "execution_count": 12,
   "id": "7baa6b16",
   "metadata": {},
   "outputs": [],
   "source": [
    "l.extend([4, 6])"
   ]
  },
  {
   "cell_type": "code",
   "execution_count": 13,
   "id": "fcfb46a8",
   "metadata": {},
   "outputs": [
    {
     "data": {
      "text/plain": [
       "[-1, 3, 7.6, 0.6, -7.986, 4, 6]"
      ]
     },
     "execution_count": 13,
     "metadata": {},
     "output_type": "execute_result"
    }
   ],
   "source": [
    "l"
   ]
  },
  {
   "cell_type": "code",
   "execution_count": 14,
   "id": "0928d038",
   "metadata": {},
   "outputs": [
    {
     "data": {
      "text/plain": [
       "[6, 4, -7.986, 0.6, 7.6, 3, -1]"
      ]
     },
     "execution_count": 14,
     "metadata": {},
     "output_type": "execute_result"
    }
   ],
   "source": [
    "l.reverse()\n",
    "l"
   ]
  },
  {
   "cell_type": "code",
   "execution_count": 15,
   "id": "9ede8e9a",
   "metadata": {},
   "outputs": [
    {
     "name": "stdout",
     "output_type": "stream",
     "text": [
      "[6, 4, -7.986, 0.6, 7.6, 3, -1]\n",
      "[-1, 3, 7.6, 0.6, -7.986, 4, 6]\n"
     ]
    }
   ],
   "source": [
    "print(l)\n",
    "l2 = []\n",
    "for i in range(1, len(l)+1):\n",
    "    l2.append(l[-i])\n",
    "print(l2)\n",
    "\n"
   ]
  },
  {
   "cell_type": "code",
   "execution_count": 16,
   "id": "2e499494",
   "metadata": {},
   "outputs": [
    {
     "name": "stdout",
     "output_type": "stream",
     "text": [
      "[6, 4, -7.986, 0.6, 7.6, 3, -1]\n",
      "[-1, 3, 7.6, 0.6, -7.986, 4, 6]\n"
     ]
    }
   ],
   "source": [
    "print(l)\n",
    "l2 = []\n",
    "for i in range(len(l)-1, -1, -1):\n",
    "    l2.append(l[i])\n",
    "print(l2)"
   ]
  },
  {
   "cell_type": "code",
   "execution_count": 17,
   "id": "48cc8729",
   "metadata": {},
   "outputs": [
    {
     "data": {
      "text/plain": [
       "[-1, 3, 7.6, 0.6, -7.986, 4, 6]"
      ]
     },
     "execution_count": 17,
     "metadata": {},
     "output_type": "execute_result"
    }
   ],
   "source": [
    "l.reverse()\n",
    "l"
   ]
  },
  {
   "cell_type": "code",
   "execution_count": 18,
   "id": "1847e6a7",
   "metadata": {},
   "outputs": [
    {
     "data": {
      "text/plain": [
       "[-1, 3, 7.6, 0.6]"
      ]
     },
     "execution_count": 18,
     "metadata": {},
     "output_type": "execute_result"
    }
   ],
   "source": [
    "l[:4]"
   ]
  },
  {
   "cell_type": "code",
   "execution_count": 19,
   "id": "894e67b5",
   "metadata": {},
   "outputs": [
    {
     "data": {
      "text/plain": [
       "[3, 7.6, 0.6, -7.986, 4, 6]"
      ]
     },
     "execution_count": 19,
     "metadata": {},
     "output_type": "execute_result"
    }
   ],
   "source": [
    "l[1:]"
   ]
  },
  {
   "cell_type": "code",
   "execution_count": 20,
   "id": "84d23b3e",
   "metadata": {},
   "outputs": [],
   "source": [
    "#1:n en R <=> list(range(1, n+1)) en python"
   ]
  },
  {
   "cell_type": "code",
   "execution_count": 21,
   "id": "e21eadd9",
   "metadata": {},
   "outputs": [],
   "source": [
    "l = [elt for elt in range(-2, 3)]\n",
    "pos_l = [x for x in l if x > 0]"
   ]
  },
  {
   "cell_type": "code",
   "execution_count": 22,
   "id": "af544b62",
   "metadata": {},
   "outputs": [
    {
     "name": "stdout",
     "output_type": "stream",
     "text": [
      "[-2, -1, 0, 1, 2]\n"
     ]
    },
    {
     "data": {
      "text/plain": [
       "[1, 2]"
      ]
     },
     "execution_count": 22,
     "metadata": {},
     "output_type": "execute_result"
    }
   ],
   "source": [
    "print(l)\n",
    "pos_l"
   ]
  },
  {
   "cell_type": "code",
   "execution_count": 23,
   "id": "c5f32757",
   "metadata": {},
   "outputs": [
    {
     "data": {
      "text/plain": [
       "[1, 4]"
      ]
     },
     "execution_count": 23,
     "metadata": {},
     "output_type": "execute_result"
    }
   ],
   "source": [
    "square_l = [x**2 for x in l if x > 0]\n",
    "square_l"
   ]
  },
  {
   "cell_type": "code",
   "execution_count": 24,
   "id": "5dabce67",
   "metadata": {},
   "outputs": [
    {
     "data": {
      "text/plain": [
       "[1, 4]"
      ]
     },
     "execution_count": 24,
     "metadata": {},
     "output_type": "execute_result"
    }
   ],
   "source": [
    "square_l = []\n",
    "for x in l:\n",
    "    if x>0:\n",
    "        square_l.append(x**2)\n",
    "square_l"
   ]
  },
  {
   "cell_type": "code",
   "execution_count": 25,
   "id": "b0f5f4ab",
   "metadata": {},
   "outputs": [
    {
     "data": {
      "text/plain": [
       "[3, 4]"
      ]
     },
     "execution_count": 25,
     "metadata": {},
     "output_type": "execute_result"
    }
   ],
   "source": [
    "pos_idx = [i for i, elt in enumerate(l) if elt > 0]\n",
    "pos_idx"
   ]
  },
  {
   "cell_type": "code",
   "execution_count": 39,
   "id": "117d1138",
   "metadata": {},
   "outputs": [
    {
     "data": {
      "text/plain": [
       "[0, -1, 1, 0, -1, 2, 1, 0, -1, 3, 2, 1, 0, -1]"
      ]
     },
     "execution_count": 39,
     "metadata": {},
     "output_type": "execute_result"
    }
   ],
   "source": [
    "l = []\n",
    "for x in range(4):\n",
    "    for y in range(x+2):\n",
    "        l.append(x - y)\n",
    "l"
   ]
  },
  {
   "cell_type": "code",
   "execution_count": 27,
   "id": "d3da3a8b",
   "metadata": {},
   "outputs": [
    {
     "data": {
      "text/plain": [
       "[[0.0, 0.5], [0.0, 0.5, 1.0], [0.0, 0.5, 1.0, 1.5]]"
      ]
     },
     "execution_count": 27,
     "metadata": {},
     "output_type": "execute_result"
    }
   ],
   "source": [
    "[[x / 2 for x in range(y)] for y in range(2, 5)]"
   ]
  },
  {
   "cell_type": "code",
   "execution_count": 28,
   "id": "e7a50492",
   "metadata": {},
   "outputs": [
    {
     "name": "stdout",
     "output_type": "stream",
     "text": [
      "[[0.0, 0.5], [0.0, 0.5, 1.0], [0.0, 0.5, 1.0, 1.5]]\n"
     ]
    }
   ],
   "source": [
    "l = []\n",
    "for y in range(2, 5):\n",
    "    temp = []\n",
    "    for x in range(y):\n",
    "        temp.append(x/2)\n",
    "    l.append(temp)\n",
    "print(l)"
   ]
  },
  {
   "cell_type": "code",
   "execution_count": 29,
   "id": "b331e08a",
   "metadata": {},
   "outputs": [
    {
     "name": "stdout",
     "output_type": "stream",
     "text": [
      "[8, 2]\n"
     ]
    }
   ],
   "source": [
    "l1 = [1, 2]\n",
    "l2 = l1\n",
    "l2[0] = 8\n",
    "print(l1)\n"
   ]
  },
  {
   "cell_type": "code",
   "execution_count": 30,
   "id": "c8172564",
   "metadata": {},
   "outputs": [
    {
     "data": {
      "text/plain": [
       "'a string'"
      ]
     },
     "execution_count": 30,
     "metadata": {},
     "output_type": "execute_result"
    }
   ],
   "source": [
    "'a string'"
   ]
  },
  {
   "cell_type": "code",
   "execution_count": 31,
   "id": "a7a7f945",
   "metadata": {},
   "outputs": [
    {
     "data": {
      "text/plain": [
       "\" l'another \""
      ]
     },
     "execution_count": 31,
     "metadata": {},
     "output_type": "execute_result"
    }
   ],
   "source": [
    "\" l'another \""
   ]
  },
  {
   "cell_type": "code",
   "execution_count": 32,
   "id": "7e436143",
   "metadata": {},
   "outputs": [
    {
     "data": {
      "text/plain": [
       "\" l'another\""
      ]
     },
     "execution_count": 32,
     "metadata": {},
     "output_type": "execute_result"
    }
   ],
   "source": [
    "' l\\'another'"
   ]
  },
  {
   "cell_type": "code",
   "execution_count": 33,
   "id": "7203d4de",
   "metadata": {},
   "outputs": [
    {
     "data": {
      "text/plain": [
       "'HELP!'"
      ]
     },
     "execution_count": 33,
     "metadata": {},
     "output_type": "execute_result"
    }
   ],
   "source": [
    "'Help!'.upper()"
   ]
  },
  {
   "cell_type": "code",
   "execution_count": 34,
   "id": "5fd2a9b0",
   "metadata": {},
   "outputs": [
    {
     "data": {
      "text/plain": [
       "'help!'"
      ]
     },
     "execution_count": 34,
     "metadata": {},
     "output_type": "execute_result"
    }
   ],
   "source": [
    "'Help!'.lower()"
   ]
  },
  {
   "cell_type": "code",
   "execution_count": 35,
   "id": "eede8089",
   "metadata": {},
   "outputs": [],
   "source": [
    "s=\"No57$9i74s0:!y\""
   ]
  },
  {
   "cell_type": "code",
   "execution_count": 36,
   "id": "f0759637",
   "metadata": {},
   "outputs": [
    {
     "data": {
      "text/plain": [
       "'Noisy'"
      ]
     },
     "execution_count": 36,
     "metadata": {},
     "output_type": "execute_result"
    }
   ],
   "source": [
    "''.join([c for c in s if c.isalpha()])"
   ]
  },
  {
   "cell_type": "code",
   "execution_count": null,
   "id": "0f14c547",
   "metadata": {},
   "outputs": [],
   "source": []
  },
  {
   "cell_type": "code",
   "execution_count": null,
   "id": "30b842df",
   "metadata": {},
   "outputs": [],
   "source": []
  },
  {
   "cell_type": "code",
   "execution_count": null,
   "id": "2916e4c7",
   "metadata": {},
   "outputs": [],
   "source": []
  },
  {
   "cell_type": "code",
   "execution_count": null,
   "id": "6c6918f4",
   "metadata": {},
   "outputs": [],
   "source": []
  }
 ],
 "metadata": {
  "kernelspec": {
   "display_name": "Python 3 (ipykernel)",
   "language": "python",
   "name": "python3"
  },
  "language_info": {
   "codemirror_mode": {
    "name": "ipython",
    "version": 3
   },
   "file_extension": ".py",
   "mimetype": "text/x-python",
   "name": "python",
   "nbconvert_exporter": "python",
   "pygments_lexer": "ipython3",
   "version": "3.10.4"
  }
 },
 "nbformat": 4,
 "nbformat_minor": 5
}
