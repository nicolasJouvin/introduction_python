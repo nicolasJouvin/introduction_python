{
 "cells": [
  {
   "cell_type": "code",
   "execution_count": 1,
   "id": "14877b5b",
   "metadata": {},
   "outputs": [
    {
     "name": "stdout",
     "output_type": "stream",
     "text": [
      "True False\n",
      "1 0\n"
     ]
    }
   ],
   "source": [
    "x = True\n",
    "y = not x\n",
    "print(x, y)\n",
    "print(int(x), int(y))"
   ]
  },
  {
   "cell_type": "code",
   "execution_count": 2,
   "id": "e3a7630a",
   "metadata": {},
   "outputs": [
    {
     "data": {
      "text/plain": [
       "1234"
      ]
     },
     "execution_count": 2,
     "metadata": {},
     "output_type": "execute_result"
    }
   ],
   "source": [
    "int('1234')"
   ]
  },
  {
   "cell_type": "code",
   "execution_count": 3,
   "id": "0095fbf1",
   "metadata": {},
   "outputs": [
    {
     "name": "stdout",
     "output_type": "stream",
     "text": [
      "I'm True\n",
      "Hello world!\n"
     ]
    }
   ],
   "source": [
    "if x:\n",
    "    print(\"I'm True\")\n",
    "else:\n",
    "    print(\"I'm False\")\n",
    "\n",
    "print('Hello world!')\n"
   ]
  },
  {
   "cell_type": "code",
   "execution_count": 4,
   "id": "395c72ec",
   "metadata": {},
   "outputs": [
    {
     "data": {
      "text/plain": [
       "True"
      ]
     },
     "execution_count": 4,
     "metadata": {},
     "output_type": "execute_result"
    }
   ],
   "source": [
    "1 == 1"
   ]
  },
  {
   "cell_type": "code",
   "execution_count": 5,
   "id": "7055ef99",
   "metadata": {},
   "outputs": [
    {
     "name": "stdout",
     "output_type": "stream",
     "text": [
      "2\n",
      "2\n"
     ]
    }
   ],
   "source": [
    "a = 1\n",
    "b = 2\n",
    "maxi = a\n",
    "if b > a:\n",
    "    maxi = b\n",
    "print(maxi)\n",
    "\n",
    "if a < b:\n",
    "    print(b)\n",
    "else:\n",
    "    print(a)"
   ]
  },
  {
   "cell_type": "code",
   "execution_count": 6,
   "id": "db651f59",
   "metadata": {},
   "outputs": [
    {
     "name": "stdout",
     "output_type": "stream",
     "text": [
      "[1, 2.3, 'a']\n",
      "<class 'list'>\n",
      "3\n",
      "1\n"
     ]
    }
   ],
   "source": [
    "l = [1, 2.3, 'a']\n",
    "print(l)\n",
    "print(type(l)) # a list\n",
    "print(len(l)) # number of elts\n",
    "print(l[0])\n",
    "# first elt"
   ]
  },
  {
   "cell_type": "code",
   "execution_count": 7,
   "id": "4af8176f",
   "metadata": {},
   "outputs": [
    {
     "name": "stdout",
     "output_type": "stream",
     "text": [
      "0 1\n",
      "1 2.3\n",
      "2 a\n"
     ]
    }
   ],
   "source": [
    "for i in range(len(l)):\n",
    "    print(i, l[i])"
   ]
  },
  {
   "cell_type": "code",
   "execution_count": 8,
   "id": "f12d7a50",
   "metadata": {},
   "outputs": [
    {
     "data": {
      "text/plain": [
       "2.3"
      ]
     },
     "execution_count": 8,
     "metadata": {},
     "output_type": "execute_result"
    }
   ],
   "source": [
    "l[-2]"
   ]
  },
  {
   "cell_type": "code",
   "execution_count": 9,
   "id": "8d275c4d",
   "metadata": {},
   "outputs": [
    {
     "name": "stdout",
     "output_type": "stream",
     "text": [
      "1\n",
      "2.3\n",
      "a\n"
     ]
    }
   ],
   "source": [
    "for elt in l:\n",
    "    print(elt)"
   ]
  },
  {
   "cell_type": "code",
   "execution_count": 10,
   "id": "64dfa15b",
   "metadata": {},
   "outputs": [
    {
     "name": "stdout",
     "output_type": "stream",
     "text": [
      "[1, 3, 4] [3, 7.6, 0.6]\n"
     ]
    }
   ],
   "source": [
    "l = [-1, 3, -2.3, 7.6, 0.6, -7.986]\n",
    "idx_l = []\n",
    "pos_l = []\n",
    "for idx, elt in enumerate(l):\n",
    "    if elt >= 0:\n",
    "        idx_l.append(idx)\n",
    "        pos_l.append(elt)\n",
    "        \n",
    "print(idx_l, pos_l)"
   ]
  },
  {
   "cell_type": "code",
   "execution_count": 11,
   "id": "b59d22f5",
   "metadata": {},
   "outputs": [
    {
     "name": "stdout",
     "output_type": "stream",
     "text": [
      "[-1, 3, -2.3, 7.6, 0.6, -7.986]\n"
     ]
    },
    {
     "data": {
      "text/plain": [
       "[-1, 3, 7.6, 0.6, -7.986]"
      ]
     },
     "execution_count": 11,
     "metadata": {},
     "output_type": "execute_result"
    }
   ],
   "source": [
    "print(l)\n",
    "l.pop(2)\n",
    "l"
   ]
  },
  {
   "cell_type": "code",
   "execution_count": 12,
   "id": "7baa6b16",
   "metadata": {},
   "outputs": [],
   "source": [
    "l.extend([4, 6])"
   ]
  },
  {
   "cell_type": "code",
   "execution_count": 13,
   "id": "fcfb46a8",
   "metadata": {},
   "outputs": [
    {
     "data": {
      "text/plain": [
       "[-1, 3, 7.6, 0.6, -7.986, 4, 6]"
      ]
     },
     "execution_count": 13,
     "metadata": {},
     "output_type": "execute_result"
    }
   ],
   "source": [
    "l"
   ]
  },
  {
   "cell_type": "code",
   "execution_count": 14,
   "id": "0928d038",
   "metadata": {},
   "outputs": [
    {
     "data": {
      "text/plain": [
       "[6, 4, -7.986, 0.6, 7.6, 3, -1]"
      ]
     },
     "execution_count": 14,
     "metadata": {},
     "output_type": "execute_result"
    }
   ],
   "source": [
    "l.reverse()\n",
    "l"
   ]
  },
  {
   "cell_type": "code",
   "execution_count": 15,
   "id": "9ede8e9a",
   "metadata": {},
   "outputs": [
    {
     "name": "stdout",
     "output_type": "stream",
     "text": [
      "[6, 4, -7.986, 0.6, 7.6, 3, -1]\n",
      "[-1, 3, 7.6, 0.6, -7.986, 4, 6]\n"
     ]
    }
   ],
   "source": [
    "print(l)\n",
    "l2 = []\n",
    "for i in range(1, len(l)+1):\n",
    "    l2.append(l[-i])\n",
    "print(l2)\n",
    "\n"
   ]
  },
  {
   "cell_type": "code",
   "execution_count": 16,
   "id": "2e499494",
   "metadata": {},
   "outputs": [
    {
     "name": "stdout",
     "output_type": "stream",
     "text": [
      "[6, 4, -7.986, 0.6, 7.6, 3, -1]\n",
      "[-1, 3, 7.6, 0.6, -7.986, 4, 6]\n"
     ]
    }
   ],
   "source": [
    "print(l)\n",
    "l2 = []\n",
    "for i in range(len(l)-1, -1, -1):\n",
    "    l2.append(l[i])\n",
    "print(l2)"
   ]
  },
  {
   "cell_type": "code",
   "execution_count": 17,
   "id": "48cc8729",
   "metadata": {},
   "outputs": [
    {
     "data": {
      "text/plain": [
       "[-1, 3, 7.6, 0.6, -7.986, 4, 6]"
      ]
     },
     "execution_count": 17,
     "metadata": {},
     "output_type": "execute_result"
    }
   ],
   "source": [
    "l.reverse()\n",
    "l"
   ]
  },
  {
   "cell_type": "code",
   "execution_count": 18,
   "id": "1847e6a7",
   "metadata": {},
   "outputs": [
    {
     "data": {
      "text/plain": [
       "[-1, 3, 7.6, 0.6]"
      ]
     },
     "execution_count": 18,
     "metadata": {},
     "output_type": "execute_result"
    }
   ],
   "source": [
    "l[:4]"
   ]
  },
  {
   "cell_type": "code",
   "execution_count": 19,
   "id": "894e67b5",
   "metadata": {},
   "outputs": [
    {
     "data": {
      "text/plain": [
       "[3, 7.6, 0.6, -7.986, 4, 6]"
      ]
     },
     "execution_count": 19,
     "metadata": {},
     "output_type": "execute_result"
    }
   ],
   "source": [
    "l[1:]"
   ]
  },
  {
   "cell_type": "code",
   "execution_count": 20,
   "id": "84d23b3e",
   "metadata": {},
   "outputs": [],
   "source": [
    "#1:n en R <=> list(range(1, n+1)) en python"
   ]
  },
  {
   "cell_type": "code",
   "execution_count": 21,
   "id": "e21eadd9",
   "metadata": {},
   "outputs": [],
   "source": [
    "l = [elt for elt in range(-2, 3)]\n",
    "pos_l = [x for x in l if x > 0]"
   ]
  },
  {
   "cell_type": "code",
   "execution_count": 22,
   "id": "af544b62",
   "metadata": {},
   "outputs": [
    {
     "name": "stdout",
     "output_type": "stream",
     "text": [
      "[-2, -1, 0, 1, 2]\n"
     ]
    },
    {
     "data": {
      "text/plain": [
       "[1, 2]"
      ]
     },
     "execution_count": 22,
     "metadata": {},
     "output_type": "execute_result"
    }
   ],
   "source": [
    "print(l)\n",
    "pos_l"
   ]
  },
  {
   "cell_type": "code",
   "execution_count": 23,
   "id": "c5f32757",
   "metadata": {},
   "outputs": [
    {
     "data": {
      "text/plain": [
       "[1, 4]"
      ]
     },
     "execution_count": 23,
     "metadata": {},
     "output_type": "execute_result"
    }
   ],
   "source": [
    "square_l = [x**2 for x in l if x > 0]\n",
    "square_l"
   ]
  },
  {
   "cell_type": "code",
   "execution_count": 24,
   "id": "5dabce67",
   "metadata": {},
   "outputs": [
    {
     "data": {
      "text/plain": [
       "[1, 4]"
      ]
     },
     "execution_count": 24,
     "metadata": {},
     "output_type": "execute_result"
    }
   ],
   "source": [
    "square_l = []\n",
    "for x in l:\n",
    "    if x>0:\n",
    "        square_l.append(x**2)\n",
    "square_l"
   ]
  },
  {
   "cell_type": "code",
   "execution_count": 25,
   "id": "b0f5f4ab",
   "metadata": {},
   "outputs": [
    {
     "data": {
      "text/plain": [
       "[3, 4]"
      ]
     },
     "execution_count": 25,
     "metadata": {},
     "output_type": "execute_result"
    }
   ],
   "source": [
    "pos_idx = [i for i, elt in enumerate(l) if elt > 0]\n",
    "pos_idx"
   ]
  },
  {
   "cell_type": "code",
   "execution_count": 26,
   "id": "117d1138",
   "metadata": {},
   "outputs": [
    {
     "data": {
      "text/plain": [
       "[0, -1, 1, 0, -1, 2, 1, 0, -1, 3, 2, 1, 0, -1]"
      ]
     },
     "execution_count": 26,
     "metadata": {},
     "output_type": "execute_result"
    }
   ],
   "source": [
    "l = []\n",
    "for x in range(4):\n",
    "    for y in range(x+2):\n",
    "        l.append(x - y)\n",
    "l"
   ]
  },
  {
   "cell_type": "code",
   "execution_count": 27,
   "id": "d3da3a8b",
   "metadata": {},
   "outputs": [
    {
     "data": {
      "text/plain": [
       "[[0.0, 0.5], [0.0, 0.5, 1.0], [0.0, 0.5, 1.0, 1.5]]"
      ]
     },
     "execution_count": 27,
     "metadata": {},
     "output_type": "execute_result"
    }
   ],
   "source": [
    "[[x / 2 for x in range(y)] for y in range(2, 5)]"
   ]
  },
  {
   "cell_type": "code",
   "execution_count": 28,
   "id": "e7a50492",
   "metadata": {},
   "outputs": [
    {
     "name": "stdout",
     "output_type": "stream",
     "text": [
      "[[0.0, 0.5], [0.0, 0.5, 1.0], [0.0, 0.5, 1.0, 1.5]]\n"
     ]
    }
   ],
   "source": [
    "l = []\n",
    "for y in range(2, 5):\n",
    "    temp = []\n",
    "    for x in range(y):\n",
    "        temp.append(x/2)\n",
    "    l.append(temp)\n",
    "print(l)"
   ]
  },
  {
   "cell_type": "code",
   "execution_count": 29,
   "id": "b331e08a",
   "metadata": {},
   "outputs": [
    {
     "name": "stdout",
     "output_type": "stream",
     "text": [
      "[8, 2]\n"
     ]
    }
   ],
   "source": [
    "l1 = [1, 2]\n",
    "l2 = l1\n",
    "l2[0] = 8\n",
    "print(l1)\n"
   ]
  },
  {
   "cell_type": "code",
   "execution_count": 30,
   "id": "c8172564",
   "metadata": {},
   "outputs": [
    {
     "data": {
      "text/plain": [
       "'a string'"
      ]
     },
     "execution_count": 30,
     "metadata": {},
     "output_type": "execute_result"
    }
   ],
   "source": [
    "'a string'"
   ]
  },
  {
   "cell_type": "code",
   "execution_count": 31,
   "id": "a7a7f945",
   "metadata": {},
   "outputs": [
    {
     "data": {
      "text/plain": [
       "\" l'another \""
      ]
     },
     "execution_count": 31,
     "metadata": {},
     "output_type": "execute_result"
    }
   ],
   "source": [
    "\" l'another \""
   ]
  },
  {
   "cell_type": "code",
   "execution_count": 32,
   "id": "7e436143",
   "metadata": {},
   "outputs": [
    {
     "data": {
      "text/plain": [
       "\" l'another\""
      ]
     },
     "execution_count": 32,
     "metadata": {},
     "output_type": "execute_result"
    }
   ],
   "source": [
    "' l\\'another'"
   ]
  },
  {
   "cell_type": "code",
   "execution_count": 33,
   "id": "7203d4de",
   "metadata": {},
   "outputs": [
    {
     "data": {
      "text/plain": [
       "'HELP!'"
      ]
     },
     "execution_count": 33,
     "metadata": {},
     "output_type": "execute_result"
    }
   ],
   "source": [
    "'Help!'.upper()"
   ]
  },
  {
   "cell_type": "code",
   "execution_count": 34,
   "id": "5fd2a9b0",
   "metadata": {},
   "outputs": [
    {
     "data": {
      "text/plain": [
       "'help!'"
      ]
     },
     "execution_count": 34,
     "metadata": {},
     "output_type": "execute_result"
    }
   ],
   "source": [
    "'Help!'.lower()"
   ]
  },
  {
   "cell_type": "code",
   "execution_count": 35,
   "id": "eede8089",
   "metadata": {},
   "outputs": [],
   "source": [
    "s=\"No57$9i74s0:!y\""
   ]
  },
  {
   "cell_type": "code",
   "execution_count": 36,
   "id": "f0759637",
   "metadata": {},
   "outputs": [
    {
     "data": {
      "text/plain": [
       "'Noisy'"
      ]
     },
     "execution_count": 36,
     "metadata": {},
     "output_type": "execute_result"
    }
   ],
   "source": [
    "''.join([c for c in s if c.isalpha()])"
   ]
  },
  {
   "cell_type": "code",
   "execution_count": 37,
   "id": "0f14c547",
   "metadata": {},
   "outputs": [],
   "source": [
    "d = {'foo': 2.3, 'bar': 'a', 'mykey': 1} # dict"
   ]
  },
  {
   "cell_type": "code",
   "execution_count": 38,
   "id": "30b842df",
   "metadata": {},
   "outputs": [
    {
     "data": {
      "text/plain": [
       "{'foo': 2.3, 'bar': 'a', 'mykey': 1}"
      ]
     },
     "execution_count": 38,
     "metadata": {},
     "output_type": "execute_result"
    }
   ],
   "source": [
    "d"
   ]
  },
  {
   "cell_type": "code",
   "execution_count": 39,
   "id": "2916e4c7",
   "metadata": {},
   "outputs": [
    {
     "data": {
      "text/plain": [
       "1"
      ]
     },
     "execution_count": 39,
     "metadata": {},
     "output_type": "execute_result"
    }
   ],
   "source": [
    "# ne fonctionne pas d[0]\n",
    "d['mykey']"
   ]
  },
  {
   "cell_type": "code",
   "execution_count": 40,
   "id": "6c6918f4",
   "metadata": {},
   "outputs": [
    {
     "name": "stdout",
     "output_type": "stream",
     "text": [
      "foo\n",
      "bar\n",
      "mykey\n"
     ]
    }
   ],
   "source": [
    "for key in d.keys():\n",
    "    print(key)"
   ]
  },
  {
   "cell_type": "code",
   "execution_count": 41,
   "id": "bf6ef36a",
   "metadata": {},
   "outputs": [
    {
     "name": "stdout",
     "output_type": "stream",
     "text": [
      "2.3\n",
      "a\n",
      "1\n"
     ]
    }
   ],
   "source": [
    "for val in d.values():\n",
    "    print(val)"
   ]
  },
  {
   "cell_type": "code",
   "execution_count": 42,
   "id": "fd18ea46",
   "metadata": {},
   "outputs": [
    {
     "name": "stdout",
     "output_type": "stream",
     "text": [
      "foo 2.3\n",
      "bar a\n",
      "mykey 1\n"
     ]
    }
   ],
   "source": [
    "for key, val in d.items():\n",
    "    print(key, val)"
   ]
  },
  {
   "cell_type": "code",
   "execution_count": 43,
   "id": "ab8b6ff2",
   "metadata": {},
   "outputs": [],
   "source": [
    "d = {'1':0, '2':1, '3':2}\n",
    "d = {str(i+1):i for i in range(3)}"
   ]
  },
  {
   "cell_type": "code",
   "execution_count": 44,
   "id": "1656ea43",
   "metadata": {},
   "outputs": [
    {
     "data": {
      "text/plain": [
       "{'1': 0, '2': 1, '3': 2}"
      ]
     },
     "execution_count": 44,
     "metadata": {},
     "output_type": "execute_result"
    }
   ],
   "source": [
    "d"
   ]
  },
  {
   "cell_type": "code",
   "execution_count": 45,
   "id": "40b10a2d",
   "metadata": {},
   "outputs": [
    {
     "data": {
      "text/plain": [
       "{'1': 0.0,\n",
       " '2': 0.5,\n",
       " '3': 1.0,\n",
       " '4': 1.5,\n",
       " '5': 2.0,\n",
       " '6': 2.5,\n",
       " '7': 3.0,\n",
       " '8': 3.5,\n",
       " '9': 4.0,\n",
       " '10': 4.5}"
      ]
     },
     "execution_count": 45,
     "metadata": {},
     "output_type": "execute_result"
    }
   ],
   "source": [
    "d = {str(i+1):i/2 for i in range(10)}\n",
    "d"
   ]
  },
  {
   "cell_type": "code",
   "execution_count": 46,
   "id": "7ccc68fc",
   "metadata": {},
   "outputs": [],
   "source": [
    "d2 = {key:int(val) for key, val in d.items() if int(val)==val}"
   ]
  },
  {
   "cell_type": "code",
   "execution_count": 47,
   "id": "2da786e9",
   "metadata": {},
   "outputs": [
    {
     "data": {
      "text/plain": [
       "{'1': 0, '3': 1, '5': 2, '7': 3, '9': 4}"
      ]
     },
     "execution_count": 47,
     "metadata": {},
     "output_type": "execute_result"
    }
   ],
   "source": [
    "d2"
   ]
  },
  {
   "cell_type": "code",
   "execution_count": 48,
   "id": "c2a575f3",
   "metadata": {},
   "outputs": [
    {
     "data": {
      "text/plain": [
       "True"
      ]
     },
     "execution_count": 48,
     "metadata": {},
     "output_type": "execute_result"
    }
   ],
   "source": [
    "2 == 2.0"
   ]
  },
  {
   "cell_type": "code",
   "execution_count": 49,
   "id": "5a909cb3",
   "metadata": {},
   "outputs": [],
   "source": [
    "t = (1, 2.3, 'a') # tuple"
   ]
  },
  {
   "cell_type": "code",
   "execution_count": 50,
   "id": "c0a93f83",
   "metadata": {},
   "outputs": [
    {
     "data": {
      "text/plain": [
       "1"
      ]
     },
     "execution_count": 50,
     "metadata": {},
     "output_type": "execute_result"
    }
   ],
   "source": [
    "t[0]"
   ]
  },
  {
   "cell_type": "code",
   "execution_count": 51,
   "id": "f3922be9",
   "metadata": {},
   "outputs": [
    {
     "name": "stdout",
     "output_type": "stream",
     "text": [
      "(1, 2.3, 'a')\n"
     ]
    }
   ],
   "source": [
    "t = 1, 2.3, 'a' # packing\n",
    "print(t)"
   ]
  },
  {
   "cell_type": "code",
   "execution_count": 52,
   "id": "0039c421",
   "metadata": {},
   "outputs": [],
   "source": [
    "x, y, z = 1, 2.3, 'a'"
   ]
  },
  {
   "cell_type": "code",
   "execution_count": 53,
   "id": "15505595",
   "metadata": {},
   "outputs": [
    {
     "data": {
      "text/plain": [
       "False"
      ]
     },
     "execution_count": 53,
     "metadata": {},
     "output_type": "execute_result"
    }
   ],
   "source": [
    "def is_even(x):\n",
    "    val = False\n",
    "    if x%2==0:\n",
    "        val = True\n",
    "    return val\n",
    "\n",
    "is_even(3) # returns False"
   ]
  },
  {
   "cell_type": "code",
   "execution_count": 54,
   "id": "dea52d58",
   "metadata": {},
   "outputs": [
    {
     "data": {
      "text/plain": [
       "True"
      ]
     },
     "execution_count": 54,
     "metadata": {},
     "output_type": "execute_result"
    }
   ],
   "source": [
    "is_even(2) # returns True"
   ]
  },
  {
   "cell_type": "code",
   "execution_count": 55,
   "id": "576d1059",
   "metadata": {},
   "outputs": [
    {
     "data": {
      "text/plain": [
       "True"
      ]
     },
     "execution_count": 55,
     "metadata": {},
     "output_type": "execute_result"
    }
   ],
   "source": [
    "is_even(x=2)"
   ]
  },
  {
   "cell_type": "code",
   "execution_count": 56,
   "id": "4e3ea9dd",
   "metadata": {},
   "outputs": [],
   "source": [
    "def func():\n",
    "    # this is the function body, z only exists here (locally)\n",
    "    z = 2\n",
    "    print(x + z)"
   ]
  },
  {
   "cell_type": "code",
   "execution_count": 57,
   "id": "cc90a3e2",
   "metadata": {},
   "outputs": [
    {
     "name": "stdout",
     "output_type": "stream",
     "text": [
      "4\n"
     ]
    }
   ],
   "source": [
    "x = 2\n",
    "func()"
   ]
  },
  {
   "cell_type": "code",
   "execution_count": 58,
   "id": "bf64ffa2",
   "metadata": {},
   "outputs": [
    {
     "data": {
      "text/plain": [
       "5"
      ]
     },
     "execution_count": 58,
     "metadata": {},
     "output_type": "execute_result"
    }
   ],
   "source": [
    "def func(x):\n",
    "    z = 2\n",
    "    return x + z\n",
    "    \n",
    "    \n",
    "x = 2\n",
    "func(x=3)\n"
   ]
  },
  {
   "cell_type": "code",
   "execution_count": 59,
   "id": "b65c9339",
   "metadata": {},
   "outputs": [
    {
     "name": "stdout",
     "output_type": "stream",
     "text": [
      "2\n"
     ]
    }
   ],
   "source": [
    "print(x)"
   ]
  },
  {
   "cell_type": "code",
   "execution_count": 60,
   "id": "1b1baffe",
   "metadata": {},
   "outputs": [],
   "source": [
    "val = func(x=3)"
   ]
  },
  {
   "cell_type": "code",
   "execution_count": 61,
   "id": "c55b15e2",
   "metadata": {},
   "outputs": [
    {
     "data": {
      "text/plain": [
       "5"
      ]
     },
     "execution_count": 61,
     "metadata": {},
     "output_type": "execute_result"
    }
   ],
   "source": [
    "val"
   ]
  },
  {
   "cell_type": "code",
   "execution_count": 62,
   "id": "57b4d674",
   "metadata": {},
   "outputs": [
    {
     "data": {
      "text/plain": [
       "[[1, 0, 0, 0, 0, 0, 0, 0, 0],\n",
       " [1, 1, 1, 1, 1, 1, 1, 1, 1],\n",
       " [1, 2, 4, 8, 16, 32, 64, 128, 256]]"
      ]
     },
     "execution_count": 62,
     "metadata": {},
     "output_type": "execute_result"
    }
   ],
   "source": [
    "def exponentiate(n):\n",
    "    def power(x):\n",
    "        return x**n\n",
    "    return power\n",
    "\n",
    "x = 2\n",
    "power_2 = exponentiate(2)\n",
    "cube = exponentiate(3)\n",
    "[[exponentiate(n)(x) for n in range(9)] for x in range(3)]"
   ]
  },
  {
   "cell_type": "code",
   "execution_count": 63,
   "id": "507f0607",
   "metadata": {},
   "outputs": [
    {
     "data": {
      "text/plain": [
       "[[1, 0, 0, 0, 0, 0, 0, 0, 0],\n",
       " [1, 1, 1, 1, 1, 1, 1, 1, 1],\n",
       " [1, 2, 4, 8, 16, 32, 64, 128, 256]]"
      ]
     },
     "execution_count": 63,
     "metadata": {},
     "output_type": "execute_result"
    }
   ],
   "source": [
    "def exponentiate(n):\n",
    "    return lambda x: x ** n\n",
    "\n",
    "[[exponentiate(n)(x) for n in range(9)] for x in range(3)]"
   ]
  },
  {
   "cell_type": "code",
   "execution_count": 64,
   "id": "4086003d",
   "metadata": {},
   "outputs": [
    {
     "data": {
      "text/plain": [
       "[[1, 0, 0, 0, 0, 0, 0, 0, 0],\n",
       " [1, 1, 1, 1, 1, 1, 1, 1, 1],\n",
       " [1, 2, 4, 8, 16, 32, 64, 128, 256]]"
      ]
     },
     "execution_count": 64,
     "metadata": {},
     "output_type": "execute_result"
    }
   ],
   "source": [
    "exponentiate = lambda n: lambda x: x**n\n",
    "[[exponentiate(n)(x) for n in range(9)] for x in range(3)]"
   ]
  },
  {
   "cell_type": "code",
   "execution_count": 65,
   "id": "b6d00612",
   "metadata": {},
   "outputs": [
    {
     "data": {
      "text/plain": [
       "1"
      ]
     },
     "execution_count": 65,
     "metadata": {},
     "output_type": "execute_result"
    }
   ],
   "source": [
    "def f(a, b=2):\n",
    "    return a ** b\n",
    "\n",
    "f(1)"
   ]
  },
  {
   "cell_type": "code",
   "execution_count": 66,
   "id": "8118a029",
   "metadata": {},
   "outputs": [
    {
     "data": {
      "text/plain": [
       "1"
      ]
     },
     "execution_count": 66,
     "metadata": {},
     "output_type": "execute_result"
    }
   ],
   "source": [
    "f(1,3)"
   ]
  },
  {
   "cell_type": "code",
   "execution_count": 67,
   "id": "7b801bc7",
   "metadata": {},
   "outputs": [
    {
     "data": {
      "text/plain": [
       "8"
      ]
     },
     "execution_count": 67,
     "metadata": {},
     "output_type": "execute_result"
    }
   ],
   "source": [
    "f(b=3, a=2)"
   ]
  },
  {
   "cell_type": "code",
   "execution_count": 68,
   "id": "7529e6be",
   "metadata": {},
   "outputs": [
    {
     "data": {
      "text/plain": [
       "2"
      ]
     },
     "execution_count": 68,
     "metadata": {},
     "output_type": "execute_result"
    }
   ],
   "source": [
    "f(2, b=1)"
   ]
  },
  {
   "cell_type": "code",
   "execution_count": 69,
   "id": "8c2eb30c",
   "metadata": {},
   "outputs": [],
   "source": [
    "def g(a, b=2, c=3):\n",
    "    return a ** b + c"
   ]
  },
  {
   "cell_type": "code",
   "execution_count": 70,
   "id": "7ebabd27",
   "metadata": {},
   "outputs": [
    {
     "data": {
      "text/plain": [
       "4"
      ]
     },
     "execution_count": 70,
     "metadata": {},
     "output_type": "execute_result"
    }
   ],
   "source": [
    "g(1)"
   ]
  },
  {
   "cell_type": "code",
   "execution_count": 71,
   "id": "1c83f0f7",
   "metadata": {},
   "outputs": [
    {
     "data": {
      "text/plain": [
       "5"
      ]
     },
     "execution_count": 71,
     "metadata": {},
     "output_type": "execute_result"
    }
   ],
   "source": [
    "g(1, c=4)"
   ]
  },
  {
   "cell_type": "code",
   "execution_count": 72,
   "id": "9b8a58c5",
   "metadata": {},
   "outputs": [
    {
     "data": {
      "text/plain": [
       "4"
      ]
     },
     "execution_count": 72,
     "metadata": {},
     "output_type": "execute_result"
    }
   ],
   "source": [
    "g(1, 4)"
   ]
  },
  {
   "cell_type": "code",
   "execution_count": 73,
   "id": "1f494159",
   "metadata": {},
   "outputs": [
    {
     "data": {
      "text/plain": [
       "[-4, -3, -2]"
      ]
     },
     "execution_count": 73,
     "metadata": {},
     "output_type": "execute_result"
    }
   ],
   "source": [
    "def filter_negative(f, l):\n",
    "    return [x for x in l if f(x) < 0]\n",
    "\n",
    "f = lambda x: x+1\n",
    "filter_negative(f, range(-4, 5))"
   ]
  },
  {
   "cell_type": "code",
   "execution_count": 74,
   "id": "b85c9320",
   "metadata": {},
   "outputs": [],
   "source": [
    "# 3 examples d'importation\n",
    "import functools\n",
    "import functools as ft\n",
    "from functools import reduce"
   ]
  },
  {
   "cell_type": "code",
   "execution_count": 75,
   "id": "ef2da180",
   "metadata": {},
   "outputs": [
    {
     "data": {
      "text/plain": [
       "[1, 2, 3, 4, 5]"
      ]
     },
     "execution_count": 75,
     "metadata": {},
     "output_type": "execute_result"
    }
   ],
   "source": [
    "l = list(range(5))\n",
    "list(map(f, l))"
   ]
  },
  {
   "cell_type": "code",
   "execution_count": 76,
   "id": "f646a802",
   "metadata": {},
   "outputs": [
    {
     "data": {
      "text/plain": [
       "[1, 2, 3, 4, 5]"
      ]
     },
     "execution_count": 76,
     "metadata": {},
     "output_type": "execute_result"
    }
   ],
   "source": [
    "def my_map(f, ite):\n",
    "    return [f(x) for x in ite]\n",
    "\n",
    "my_map(f, l)"
   ]
  },
  {
   "cell_type": "code",
   "execution_count": 77,
   "id": "3c53abad",
   "metadata": {},
   "outputs": [],
   "source": [
    "l = list(range(-4, 5))\n",
    "l.sort(key=lambda x: x**2)"
   ]
  },
  {
   "cell_type": "code",
   "execution_count": 78,
   "id": "4024b7c2",
   "metadata": {},
   "outputs": [
    {
     "data": {
      "text/plain": [
       "[0, -1, 1, -2, 2, -3, 3, -4, 4]"
      ]
     },
     "execution_count": 78,
     "metadata": {},
     "output_type": "execute_result"
    }
   ],
   "source": [
    "l"
   ]
  },
  {
   "cell_type": "code",
   "execution_count": 79,
   "id": "b42120ac",
   "metadata": {},
   "outputs": [
    {
     "data": {
      "text/plain": [
       "<function _functools.reduce>"
      ]
     },
     "execution_count": 79,
     "metadata": {},
     "output_type": "execute_result"
    }
   ],
   "source": [
    "import functools\n",
    "functools.reduce"
   ]
  },
  {
   "cell_type": "code",
   "execution_count": 80,
   "id": "6334d0d5",
   "metadata": {},
   "outputs": [
    {
     "data": {
      "text/plain": [
       "<function _functools.reduce>"
      ]
     },
     "execution_count": 80,
     "metadata": {},
     "output_type": "execute_result"
    }
   ],
   "source": [
    "import functools as foo\n",
    "foo.reduce"
   ]
  },
  {
   "cell_type": "code",
   "execution_count": 81,
   "id": "c3ae95d1",
   "metadata": {},
   "outputs": [
    {
     "data": {
      "text/plain": [
       "<function _functools.reduce>"
      ]
     },
     "execution_count": 81,
     "metadata": {},
     "output_type": "execute_result"
    }
   ],
   "source": [
    "from functools import reduce\n",
    "reduce"
   ]
  },
  {
   "cell_type": "code",
   "execution_count": 82,
   "id": "6ac9c054",
   "metadata": {},
   "outputs": [
    {
     "data": {
      "text/plain": [
       "array([0, 1])"
      ]
     },
     "execution_count": 82,
     "metadata": {},
     "output_type": "execute_result"
    }
   ],
   "source": [
    "import numpy as np\n",
    "np.array([0,1])"
   ]
  },
  {
   "cell_type": "code",
   "execution_count": 83,
   "id": "3e72cc1d",
   "metadata": {},
   "outputs": [],
   "source": [
    "class Animal:\n",
    "    \"\"\"Class names are CamelCase by convention.\"\"\"\n",
    "    def __init__(self, type, name):\n",
    "        self.name = name\n",
    "        self.type = type\n",
    "        self.new_attr = None\n",
    "        \n",
    "    def present(self):\n",
    "        self.new_attr = 28\n",
    "        print(self.name, \"is a\", self.type)\n",
    "        \n",
    "foo = Animal(\"dog\", \"medor\")\n"
   ]
  },
  {
   "cell_type": "code",
   "execution_count": 84,
   "id": "f80ce63b",
   "metadata": {},
   "outputs": [
    {
     "name": "stdout",
     "output_type": "stream",
     "text": [
      "dog medor\n",
      "medor is a dog\n",
      "28\n"
     ]
    }
   ],
   "source": [
    "print(foo.type, foo.name)\n",
    "# doesn't exist yet : print(foo.new_attr)\n",
    "foo.present()\n",
    "print(foo.new_attr)"
   ]
  },
  {
   "cell_type": "code",
   "execution_count": 85,
   "id": "6e6b6d2e",
   "metadata": {},
   "outputs": [
    {
     "data": {
      "text/plain": [
       "'dog'"
      ]
     },
     "execution_count": 85,
     "metadata": {},
     "output_type": "execute_result"
    }
   ],
   "source": [
    "foo.type"
   ]
  },
  {
   "cell_type": "code",
   "execution_count": 86,
   "id": "fd45ee3a",
   "metadata": {},
   "outputs": [
    {
     "data": {
      "text/plain": [
       "'medor'"
      ]
     },
     "execution_count": 86,
     "metadata": {},
     "output_type": "execute_result"
    }
   ],
   "source": [
    "foo.name"
   ]
  },
  {
   "cell_type": "code",
   "execution_count": 87,
   "id": "7fcc24ee",
   "metadata": {},
   "outputs": [
    {
     "name": "stdout",
     "output_type": "stream",
     "text": [
      "felix is a cat\n"
     ]
    }
   ],
   "source": [
    "bar = Animal(\"cat\", \"felix\")\n",
    "bar.present()"
   ]
  },
  {
   "cell_type": "code",
   "execution_count": 88,
   "id": "93d38d8f",
   "metadata": {},
   "outputs": [],
   "source": [
    "foo2 = Animal(type = \"dog\", name = \"medor\")"
   ]
  },
  {
   "cell_type": "code",
   "execution_count": 89,
   "id": "f1b20e26",
   "metadata": {},
   "outputs": [
    {
     "name": "stdout",
     "output_type": "stream",
     "text": [
      "medor is a dog\n"
     ]
    }
   ],
   "source": [
    "foo2.present()"
   ]
  },
  {
   "cell_type": "code",
   "execution_count": 90,
   "id": "4f53a337",
   "metadata": {},
   "outputs": [
    {
     "data": {
      "text/plain": [
       "1.4142135623730951"
      ]
     },
     "execution_count": 90,
     "metadata": {},
     "output_type": "execute_result"
    }
   ],
   "source": [
    "class TwoDPoint:\n",
    "    \"\"\"\n",
    "    Une classe pour representer un point (x,y) du plan. \n",
    "    Permet de calculer sa norme et la distance à un autre point de la classe. \n",
    "    \"\"\"\n",
    "    \n",
    "    def __init__(self, x, y):\n",
    "        self.x = x\n",
    "        self.y = y\n",
    "        \n",
    "    def distance(self, b):\n",
    "        \"\"\"\n",
    "        Calcule la distance de self au point b où b est de classe TwoDPoint.\n",
    "        \"\"\"\n",
    "        return ((self.x - b.x) ** 2 + (self.y - b.y) ** 2) ** (1/2)\n",
    "    \n",
    "    def norm(self):\n",
    "        \"\"\"Calcul la norme euclidienne du point (distance à (0,0)).\"\"\"\n",
    "        zero = TwoDPoint(0, 0)\n",
    "        return self.distance(zero)\n",
    "    \n",
    "a = TwoDPoint(x=1, y=1)\n",
    "b = TwoDPoint(x=2, y=1)\n",
    "\n",
    "a.distance(b)\n",
    "a.norm()"
   ]
  },
  {
   "cell_type": "code",
   "execution_count": 91,
   "id": "f1b8050d",
   "metadata": {},
   "outputs": [
    {
     "name": "stdout",
     "output_type": "stream",
     "text": [
      "jackson (a Bird): Bonjour !\n"
     ]
    }
   ],
   "source": [
    "class Parrot(Animal):\n",
    "    \"\"\"Class names are CamelCase by convention.\"\"\"\n",
    "    def __init__(self, name, message):\n",
    "        # super() is a special function to call constructor from\n",
    "        # the mother class Animal\n",
    "        super().__init__(type='Bird', name=name)\n",
    "        self.message = message\n",
    "        \n",
    "    def repeat(self):\n",
    "        print(self.name, \"(a \" + self.type + \"):\", self.message)\n",
    "    \n",
    "coco = Parrot(\"jackson\", \"Bonjour !\") # an object of class Parrot\n",
    "coco.repeat() # call the method repeat()\n"
   ]
  },
  {
   "cell_type": "code",
   "execution_count": 92,
   "id": "55ff5da8",
   "metadata": {},
   "outputs": [
    {
     "name": "stdout",
     "output_type": "stream",
     "text": [
      "jackson is a Bird\n"
     ]
    }
   ],
   "source": [
    "coco.present() # the method present is inherited"
   ]
  },
  {
   "cell_type": "code",
   "execution_count": null,
   "id": "c2389b9c",
   "metadata": {},
   "outputs": [],
   "source": []
  }
 ],
 "metadata": {
  "kernelspec": {
   "display_name": "Python 3 (ipykernel)",
   "language": "python",
   "name": "python3"
  },
  "language_info": {
   "codemirror_mode": {
    "name": "ipython",
    "version": 3
   },
   "file_extension": ".py",
   "mimetype": "text/x-python",
   "name": "python",
   "nbconvert_exporter": "python",
   "pygments_lexer": "ipython3",
   "version": "3.10.4"
  }
 },
 "nbformat": 4,
 "nbformat_minor": 5
}
